{
 "cells": [
  {
   "cell_type": "markdown",
   "metadata": {},
   "source": [
    "# Predicting Molecular Properties"
   ]
  },
  {
   "cell_type": "code",
   "execution_count": 284,
   "metadata": {},
   "outputs": [],
   "source": [
    "using CSV\n",
    "using LinearAlgebra\n",
    "using DataFrames"
   ]
  },
  {
   "cell_type": "code",
   "execution_count": 285,
   "metadata": {},
   "outputs": [],
   "source": [
    "using Statistics"
   ]
  },
  {
   "cell_type": "code",
   "execution_count": 286,
   "metadata": {},
   "outputs": [],
   "source": [
    "using MLDataUtils"
   ]
  },
  {
   "cell_type": "code",
   "execution_count": 262,
   "metadata": {},
   "outputs": [],
   "source": [
    "using Flux\n",
    "using Base.Iterators: repeated\n",
    "using Flux: throttle\n",
    "using Flux: onehotbatch"
   ]
  },
  {
   "cell_type": "code",
   "execution_count": 263,
   "metadata": {},
   "outputs": [],
   "source": [
    "using Flux.Tracker, Statistics, DelimitedFiles\n",
    "using Flux.Tracker: Params, gradient, update!"
   ]
  },
  {
   "cell_type": "code",
   "execution_count": 268,
   "metadata": {},
   "outputs": [],
   "source": [
    "using Random"
   ]
  },
  {
   "cell_type": "markdown",
   "metadata": {},
   "source": [
    "### The datasets of this project"
   ]
  },
  {
   "cell_type": "code",
   "execution_count": 8,
   "metadata": {
    "scrolled": true
   },
   "outputs": [
    {
     "data": {
      "text/plain": [
       "10-element Array{String,1}:\n",
       " \"dipole_moments.csv\"               \n",
       " \"magnetic_shielding_tensors.csv\"   \n",
       " \"mulliken_charges.csv\"             \n",
       " \"potential_energy.csv\"             \n",
       " \"sample_submission.csv\"            \n",
       " \"scalar_coupling_contributions.csv\"\n",
       " \"structures.csv\"                   \n",
       " \"structures.zip\"                   \n",
       " \"test.csv\"                         \n",
       " \"train.csv\"                        "
      ]
     },
     "execution_count": 8,
     "metadata": {},
     "output_type": "execute_result"
    }
   ],
   "source": [
    "readdir(\"./champs-scalar-coupling/\")"
   ]
  },
  {
   "cell_type": "markdown",
   "metadata": {},
   "source": [
    "### We will use the main files to do the machine learning"
   ]
  },
  {
   "cell_type": "code",
   "execution_count": 9,
   "metadata": {
    "scrolled": true
   },
   "outputs": [],
   "source": [
    "train = CSV.read(\"./champs-scalar-coupling/train.csv\");\n",
    "test = CSV.read(\"./champs-scalar-coupling/test.csv\");\n",
    "structures = CSV.read(\"./champs-scalar-coupling/structures.csv\");"
   ]
  },
  {
   "cell_type": "markdown",
   "metadata": {},
   "source": [
    "### 1. Structures of each dataset "
   ]
  },
  {
   "cell_type": "code",
   "execution_count": 8,
   "metadata": {},
   "outputs": [
    {
     "name": "stdout",
     "output_type": "stream",
     "text": [
      "The size of train : (4658147, 6)\n",
      "The size of test : (2505542, 5)\n",
      "The size of structures: (2358657, 6)\n",
      "There are 4658147\n"
     ]
    }
   ],
   "source": [
    "println(\"The size of train : $(size(train))\")\n",
    "println(\"The size of test : $(size(test))\")\n",
    "println(\"The size of structures: $(size(structures))\")\n",
    "println(\"There are $(length(unique(train[:,1])))\")"
   ]
  },
  {
   "cell_type": "markdown",
   "metadata": {},
   "source": [
    "#### train.csv - the training set, where the first column (molecule_name) is the name of the molecule where the coupling constant originates (the corresponding XYZ file is located at ./structures/.xyz), the second (atom_index_0) and third column (atom_index_1) is the atom indices of the atom-pair creating the coupling and the fourth column (scalar_coupling_constant) is the scalar coupling constant that we want to be able to predict"
   ]
  },
  {
   "cell_type": "code",
   "execution_count": 10,
   "metadata": {
    "scrolled": true
   },
   "outputs": [
    {
     "data": {
      "text/html": [
       "<table class=\"data-frame\"><thead><tr><th></th><th>id</th><th>molecule_name</th><th>atom_index_0</th><th>atom_index_1</th><th>type</th><th>scalar_coupling_constant</th></tr><tr><th></th><th>Int64</th><th>String</th><th>Int64</th><th>Int64</th><th>String</th><th>Float64</th></tr></thead><tbody><p>5 rows × 6 columns</p><tr><th>1</th><td>0</td><td>dsgdb9nsd_000001</td><td>1</td><td>0</td><td>1JHC</td><td>84.8076</td></tr><tr><th>2</th><td>1</td><td>dsgdb9nsd_000001</td><td>1</td><td>2</td><td>2JHH</td><td>-11.257</td></tr><tr><th>3</th><td>2</td><td>dsgdb9nsd_000001</td><td>1</td><td>3</td><td>2JHH</td><td>-11.2548</td></tr><tr><th>4</th><td>3</td><td>dsgdb9nsd_000001</td><td>1</td><td>4</td><td>2JHH</td><td>-11.2543</td></tr><tr><th>5</th><td>4</td><td>dsgdb9nsd_000001</td><td>2</td><td>0</td><td>1JHC</td><td>84.8074</td></tr></tbody></table>"
      ],
      "text/latex": [
       "\\begin{tabular}{r|cccccc}\n",
       "\t& id & molecule\\_name & atom\\_index\\_0 & atom\\_index\\_1 & type & scalar\\_coupling\\_constant\\\\\n",
       "\t\\hline\n",
       "\t& Int64 & String & Int64 & Int64 & String & Float64\\\\\n",
       "\t\\hline\n",
       "\t1 & 0 & dsgdb9nsd\\_000001 & 1 & 0 & 1JHC & 84.8076 \\\\\n",
       "\t2 & 1 & dsgdb9nsd\\_000001 & 1 & 2 & 2JHH & -11.257 \\\\\n",
       "\t3 & 2 & dsgdb9nsd\\_000001 & 1 & 3 & 2JHH & -11.2548 \\\\\n",
       "\t4 & 3 & dsgdb9nsd\\_000001 & 1 & 4 & 2JHH & -11.2543 \\\\\n",
       "\t5 & 4 & dsgdb9nsd\\_000001 & 2 & 0 & 1JHC & 84.8074 \\\\\n",
       "\\end{tabular}\n"
      ],
      "text/plain": [
       "5×6 DataFrame. Omitted printing of 1 columns\n",
       "│ Row │ id    │ molecule_name    │ atom_index_0 │ atom_index_1 │ type   │\n",
       "│     │ \u001b[90mInt64\u001b[39m │ \u001b[90mString\u001b[39m           │ \u001b[90mInt64\u001b[39m        │ \u001b[90mInt64\u001b[39m        │ \u001b[90mString\u001b[39m │\n",
       "├─────┼───────┼──────────────────┼──────────────┼──────────────┼────────┤\n",
       "│ 1   │ 0     │ dsgdb9nsd_000001 │ 1            │ 0            │ 1JHC   │\n",
       "│ 2   │ 1     │ dsgdb9nsd_000001 │ 1            │ 2            │ 2JHH   │\n",
       "│ 3   │ 2     │ dsgdb9nsd_000001 │ 1            │ 3            │ 2JHH   │\n",
       "│ 4   │ 3     │ dsgdb9nsd_000001 │ 1            │ 4            │ 2JHH   │\n",
       "│ 5   │ 4     │ dsgdb9nsd_000001 │ 2            │ 0            │ 1JHC   │"
      ]
     },
     "execution_count": 10,
     "metadata": {},
     "output_type": "execute_result"
    }
   ],
   "source": [
    "train[1:5,:]"
   ]
  },
  {
   "cell_type": "code",
   "execution_count": 11,
   "metadata": {},
   "outputs": [
    {
     "data": {
      "text/plain": [
       "6-element Array{Symbol,1}:\n",
       " :id                      \n",
       " :molecule_name           \n",
       " :atom_index_0            \n",
       " :atom_index_1            \n",
       " :type                    \n",
       " :scalar_coupling_constant"
      ]
     },
     "execution_count": 11,
     "metadata": {},
     "output_type": "execute_result"
    }
   ],
   "source": [
    "names(train)"
   ]
  },
  {
   "cell_type": "markdown",
   "metadata": {},
   "source": [
    "### columns_oneHot will store the columns' names that we will translate into one hot batch"
   ]
  },
  {
   "cell_type": "code",
   "execution_count": 12,
   "metadata": {},
   "outputs": [
    {
     "data": {
      "text/plain": [
       "addColumns (generic function with 1 method)"
      ]
     },
     "execution_count": 12,
     "metadata": {},
     "output_type": "execute_result"
    }
   ],
   "source": [
    "function addColumns(columns_A,columns_B,ls)\n",
    "    \"\"\"\n",
    "    add the columns of columns_B in ls to the columns_A\n",
    "    \"\"\"\n",
    "    \n",
    "    for i in ls\n",
    "        push!(columns_A,columns_B[i])\n",
    "    end\n",
    "end\n",
    "        "
   ]
  },
  {
   "cell_type": "code",
   "execution_count": 287,
   "metadata": {},
   "outputs": [
    {
     "data": {
      "text/plain": [
       "0-element Array{Any,1}"
      ]
     },
     "execution_count": 287,
     "metadata": {},
     "output_type": "execute_result"
    }
   ],
   "source": [
    "columns_oneHot = []"
   ]
  },
  {
   "cell_type": "markdown",
   "metadata": {},
   "source": [
    "### test.csv - the test set; same info as train, without the target variable: scalar_coupling_constant. In this project we will not use this test dataset to test dataset. We just split the trian dataset into train and test to check our model."
   ]
  },
  {
   "cell_type": "code",
   "execution_count": 288,
   "metadata": {},
   "outputs": [
    {
     "data": {
      "text/html": [
       "<table class=\"data-frame\"><thead><tr><th></th><th>id</th><th>molecule_name</th><th>atom_index_0</th><th>atom_index_1</th><th>type</th><th>scalar_coupling_constant</th></tr><tr><th></th><th>Int64</th><th>String</th><th>Int64</th><th>Int64</th><th>String</th><th>Float64</th></tr></thead><tbody><p>5 rows × 6 columns</p><tr><th>1</th><td>0</td><td>dsgdb9nsd_000001</td><td>1</td><td>0</td><td>1JHC</td><td>84.8076</td></tr><tr><th>2</th><td>1</td><td>dsgdb9nsd_000001</td><td>1</td><td>2</td><td>2JHH</td><td>-11.257</td></tr><tr><th>3</th><td>2</td><td>dsgdb9nsd_000001</td><td>1</td><td>3</td><td>2JHH</td><td>-11.2548</td></tr><tr><th>4</th><td>3</td><td>dsgdb9nsd_000001</td><td>1</td><td>4</td><td>2JHH</td><td>-11.2543</td></tr><tr><th>5</th><td>4</td><td>dsgdb9nsd_000001</td><td>2</td><td>0</td><td>1JHC</td><td>84.8074</td></tr></tbody></table>"
      ],
      "text/latex": [
       "\\begin{tabular}{r|cccccc}\n",
       "\t& id & molecule\\_name & atom\\_index\\_0 & atom\\_index\\_1 & type & scalar\\_coupling\\_constant\\\\\n",
       "\t\\hline\n",
       "\t& Int64 & String & Int64 & Int64 & String & Float64\\\\\n",
       "\t\\hline\n",
       "\t1 & 0 & dsgdb9nsd\\_000001 & 1 & 0 & 1JHC & 84.8076 \\\\\n",
       "\t2 & 1 & dsgdb9nsd\\_000001 & 1 & 2 & 2JHH & -11.257 \\\\\n",
       "\t3 & 2 & dsgdb9nsd\\_000001 & 1 & 3 & 2JHH & -11.2548 \\\\\n",
       "\t4 & 3 & dsgdb9nsd\\_000001 & 1 & 4 & 2JHH & -11.2543 \\\\\n",
       "\t5 & 4 & dsgdb9nsd\\_000001 & 2 & 0 & 1JHC & 84.8074 \\\\\n",
       "\\end{tabular}\n"
      ],
      "text/plain": [
       "5×6 DataFrame. Omitted printing of 1 columns\n",
       "│ Row │ id    │ molecule_name    │ atom_index_0 │ atom_index_1 │ type   │\n",
       "│     │ \u001b[90mInt64\u001b[39m │ \u001b[90mString\u001b[39m           │ \u001b[90mInt64\u001b[39m        │ \u001b[90mInt64\u001b[39m        │ \u001b[90mString\u001b[39m │\n",
       "├─────┼───────┼──────────────────┼──────────────┼──────────────┼────────┤\n",
       "│ 1   │ 0     │ dsgdb9nsd_000001 │ 1            │ 0            │ 1JHC   │\n",
       "│ 2   │ 1     │ dsgdb9nsd_000001 │ 1            │ 2            │ 2JHH   │\n",
       "│ 3   │ 2     │ dsgdb9nsd_000001 │ 1            │ 3            │ 2JHH   │\n",
       "│ 4   │ 3     │ dsgdb9nsd_000001 │ 1            │ 4            │ 2JHH   │\n",
       "│ 5   │ 4     │ dsgdb9nsd_000001 │ 2            │ 0            │ 1JHC   │"
      ]
     },
     "execution_count": 288,
     "metadata": {},
     "output_type": "execute_result"
    }
   ],
   "source": [
    "train[1:5,:]"
   ]
  },
  {
   "cell_type": "markdown",
   "metadata": {},
   "source": [
    "#### structures.csv - containing molecular structure , where the first column is molecule_name, the second column(atom_index) is the name of the molecule the number of atoms in the molecule, followed by a column(atom) containing the atomic element (H for hydrogen, C for carbon etc.) and the remaining columns contain the X, Y and Z cartesian coordinates (a standard format for chemists and molecular visualization programs)"
   ]
  },
  {
   "cell_type": "code",
   "execution_count": 14,
   "metadata": {},
   "outputs": [
    {
     "data": {
      "text/html": [
       "<table class=\"data-frame\"><thead><tr><th></th><th>molecule_name</th><th>atom_index</th><th>atom</th><th>x</th><th>y</th><th>z</th></tr><tr><th></th><th>String</th><th>Int64</th><th>String</th><th>Float64</th><th>Float64</th><th>Float64</th></tr></thead><tbody><p>5 rows × 6 columns</p><tr><th>1</th><td>dsgdb9nsd_000001</td><td>0</td><td>C</td><td>-0.0126981</td><td>1.0858</td><td>0.008001</td></tr><tr><th>2</th><td>dsgdb9nsd_000001</td><td>1</td><td>H</td><td>0.00215042</td><td>-0.00603132</td><td>0.00197612</td></tr><tr><th>3</th><td>dsgdb9nsd_000001</td><td>2</td><td>H</td><td>1.01173</td><td>1.46375</td><td>0.000276575</td></tr><tr><th>4</th><td>dsgdb9nsd_000001</td><td>3</td><td>H</td><td>-0.540815</td><td>1.44753</td><td>-0.876644</td></tr><tr><th>5</th><td>dsgdb9nsd_000001</td><td>4</td><td>H</td><td>-0.523814</td><td>1.43793</td><td>0.906397</td></tr></tbody></table>"
      ],
      "text/latex": [
       "\\begin{tabular}{r|cccccc}\n",
       "\t& molecule\\_name & atom\\_index & atom & x & y & z\\\\\n",
       "\t\\hline\n",
       "\t& String & Int64 & String & Float64 & Float64 & Float64\\\\\n",
       "\t\\hline\n",
       "\t1 & dsgdb9nsd\\_000001 & 0 & C & -0.0126981 & 1.0858 & 0.008001 \\\\\n",
       "\t2 & dsgdb9nsd\\_000001 & 1 & H & 0.00215042 & -0.00603132 & 0.00197612 \\\\\n",
       "\t3 & dsgdb9nsd\\_000001 & 2 & H & 1.01173 & 1.46375 & 0.000276575 \\\\\n",
       "\t4 & dsgdb9nsd\\_000001 & 3 & H & -0.540815 & 1.44753 & -0.876644 \\\\\n",
       "\t5 & dsgdb9nsd\\_000001 & 4 & H & -0.523814 & 1.43793 & 0.906397 \\\\\n",
       "\\end{tabular}\n"
      ],
      "text/plain": [
       "5×6 DataFrame. Omitted printing of 1 columns\n",
       "│ Row │ molecule_name    │ atom_index │ atom   │ x          │ y           │\n",
       "│     │ \u001b[90mString\u001b[39m           │ \u001b[90mInt64\u001b[39m      │ \u001b[90mString\u001b[39m │ \u001b[90mFloat64\u001b[39m    │ \u001b[90mFloat64\u001b[39m     │\n",
       "├─────┼──────────────────┼────────────┼────────┼────────────┼─────────────┤\n",
       "│ 1   │ dsgdb9nsd_000001 │ 0          │ C      │ -0.0126981 │ 1.0858      │\n",
       "│ 2   │ dsgdb9nsd_000001 │ 1          │ H      │ 0.00215042 │ -0.00603132 │\n",
       "│ 3   │ dsgdb9nsd_000001 │ 2          │ H      │ 1.01173    │ 1.46375     │\n",
       "│ 4   │ dsgdb9nsd_000001 │ 3          │ H      │ -0.540815  │ 1.44753     │\n",
       "│ 5   │ dsgdb9nsd_000001 │ 4          │ H      │ -0.523814  │ 1.43793     │"
      ]
     },
     "execution_count": 14,
     "metadata": {},
     "output_type": "execute_result"
    }
   ],
   "source": [
    "structures[1:5,:]"
   ]
  },
  {
   "cell_type": "code",
   "execution_count": 15,
   "metadata": {},
   "outputs": [
    {
     "name": "stdout",
     "output_type": "stream",
     "text": [
      "There are 85003 distinct molecules in train data\n",
      "There are 45772 distinct molecules in test data\n",
      "There are 29 distinct molecules in structures data\n",
      "There are 5 distinct atoms in structures data\n",
      "There are 8 distinct types in train data\n"
     ]
    }
   ],
   "source": [
    "println(\"There are $(length(unique(train[:,2]))) distinct molecules in train data\")\n",
    "println(\"There are $(length(unique(test[:,2]))) distinct molecules in test data\")\n",
    "println(\"There are $(length(unique(structures[:,2]))) distinct molecules in structures data\")\n",
    "println(\"There are $(length(unique(structures[:,3]))) distinct atoms in structures data\")\n",
    "println(\"There are $(length(unique(train[:,5]))) distinct types in train data\")\n"
   ]
  },
  {
   "cell_type": "markdown",
   "metadata": {},
   "source": [
    "### 2. Define a function to combine two dataframes into a big one dataframe and change the columns' names accordingly. And at last construct an complete dataframe containing the essential parameters"
   ]
  },
  {
   "cell_type": "code",
   "execution_count": 289,
   "metadata": {
    "scrolled": false
   },
   "outputs": [
    {
     "data": {
      "text/plain": [
       "mergeDF (generic function with 2 methods)"
      ]
     },
     "execution_count": 289,
     "metadata": {},
     "output_type": "execute_result"
    }
   ],
   "source": [
    "function mergeDF(df1,df2,on,atom_index=\"false\")\n",
    "    \"\"\"\n",
    "    parameters:\n",
    "    df1: a dataframe\n",
    "    df2: a dataframe\n",
    "    on: list of tuples containing the columns in df1 and df2. example: (:column1,:column2),column1 of df1 correspond to column2 of df2\n",
    "    atom_index: if not \"false\" then the columns in the combined dataframe df3 should be add to the index, otherwise just return the df3\n",
    "    \n",
    "    Output: \n",
    "    Dataframe df3 consists of df1 and df2 \n",
    "    \"\"\"\n",
    "    df3 = join(df1,df2,on=on)\n",
    "    \n",
    "    if atom_index != \"false\" # should not use the bool value false, as integer 0 is equla to false\n",
    "        \n",
    "        add_columns = setdiff(names(df3),names(df1))\n",
    "        add_columns = [Symbol(x,\"_\", string(atom_index)) for x in add_columns]\n",
    "        changed_columns = vcat(names(df1),add_columns)\n",
    "        \n",
    "        rename!(df3,names(df3) .=> changed_columns)# rename the column names\n",
    "        return df3\n",
    "    else\n",
    "        return df3\n",
    "    end\n",
    "end\n",
    "    \n",
    "    "
   ]
  },
  {
   "cell_type": "markdown",
   "metadata": {},
   "source": [
    "### merge the train and structures dataframes and add the columns of structures dataframe according to the column atom_index_0 of train dataframe. The out dataframe is the combination of two dataframes represented by df_2_1."
   ]
  },
  {
   "cell_type": "code",
   "execution_count": 290,
   "metadata": {
    "scrolled": false
   },
   "outputs": [],
   "source": [
    "df_2_1= mergeDF(train,structures,[(:molecule_name, :molecule_name), (:atom_index_0, :atom_index)],0);"
   ]
  },
  {
   "cell_type": "code",
   "execution_count": 291,
   "metadata": {
    "scrolled": false
   },
   "outputs": [
    {
     "data": {
      "text/html": [
       "<table class=\"data-frame\"><thead><tr><th></th><th>id</th><th>molecule_name</th><th>atom_index_0</th><th>atom_index_1</th><th>type</th><th>scalar_coupling_constant</th></tr><tr><th></th><th>Int64</th><th>String</th><th>Int64</th><th>Int64</th><th>String</th><th>Float64</th></tr></thead><tbody><p>5 rows × 10 columns (omitted printing of 4 columns)</p><tr><th>1</th><td>0</td><td>dsgdb9nsd_000001</td><td>1</td><td>0</td><td>1JHC</td><td>84.8076</td></tr><tr><th>2</th><td>1</td><td>dsgdb9nsd_000001</td><td>1</td><td>2</td><td>2JHH</td><td>-11.257</td></tr><tr><th>3</th><td>2</td><td>dsgdb9nsd_000001</td><td>1</td><td>3</td><td>2JHH</td><td>-11.2548</td></tr><tr><th>4</th><td>3</td><td>dsgdb9nsd_000001</td><td>1</td><td>4</td><td>2JHH</td><td>-11.2543</td></tr><tr><th>5</th><td>4</td><td>dsgdb9nsd_000001</td><td>2</td><td>0</td><td>1JHC</td><td>84.8074</td></tr></tbody></table>"
      ],
      "text/latex": [
       "\\begin{tabular}{r|ccccccc}\n",
       "\t& id & molecule\\_name & atom\\_index\\_0 & atom\\_index\\_1 & type & scalar\\_coupling\\_constant & \\\\\n",
       "\t\\hline\n",
       "\t& Int64 & String & Int64 & Int64 & String & Float64 & \\\\\n",
       "\t\\hline\n",
       "\t1 & 0 & dsgdb9nsd\\_000001 & 1 & 0 & 1JHC & 84.8076 & $\\dots$ \\\\\n",
       "\t2 & 1 & dsgdb9nsd\\_000001 & 1 & 2 & 2JHH & -11.257 & $\\dots$ \\\\\n",
       "\t3 & 2 & dsgdb9nsd\\_000001 & 1 & 3 & 2JHH & -11.2548 & $\\dots$ \\\\\n",
       "\t4 & 3 & dsgdb9nsd\\_000001 & 1 & 4 & 2JHH & -11.2543 & $\\dots$ \\\\\n",
       "\t5 & 4 & dsgdb9nsd\\_000001 & 2 & 0 & 1JHC & 84.8074 & $\\dots$ \\\\\n",
       "\\end{tabular}\n"
      ],
      "text/plain": [
       "5×10 DataFrame. Omitted printing of 5 columns\n",
       "│ Row │ id    │ molecule_name    │ atom_index_0 │ atom_index_1 │ type   │\n",
       "│     │ \u001b[90mInt64\u001b[39m │ \u001b[90mString\u001b[39m           │ \u001b[90mInt64\u001b[39m        │ \u001b[90mInt64\u001b[39m        │ \u001b[90mString\u001b[39m │\n",
       "├─────┼───────┼──────────────────┼──────────────┼──────────────┼────────┤\n",
       "│ 1   │ 0     │ dsgdb9nsd_000001 │ 1            │ 0            │ 1JHC   │\n",
       "│ 2   │ 1     │ dsgdb9nsd_000001 │ 1            │ 2            │ 2JHH   │\n",
       "│ 3   │ 2     │ dsgdb9nsd_000001 │ 1            │ 3            │ 2JHH   │\n",
       "│ 4   │ 3     │ dsgdb9nsd_000001 │ 1            │ 4            │ 2JHH   │\n",
       "│ 5   │ 4     │ dsgdb9nsd_000001 │ 2            │ 0            │ 1JHC   │"
      ]
     },
     "execution_count": 291,
     "metadata": {},
     "output_type": "execute_result"
    }
   ],
   "source": [
    "df_2_1[1:5,:]"
   ]
  },
  {
   "cell_type": "code",
   "execution_count": 17,
   "metadata": {},
   "outputs": [
    {
     "data": {
      "text/plain": [
       "10-element Array{Symbol,1}:\n",
       " :id                      \n",
       " :molecule_name           \n",
       " :atom_index_0            \n",
       " :atom_index_1            \n",
       " :type                    \n",
       " :scalar_coupling_constant\n",
       " :atom_0                  \n",
       " :x_0                     \n",
       " :y_0                     \n",
       " :z_0                     "
      ]
     },
     "execution_count": 17,
     "metadata": {},
     "output_type": "execute_result"
    }
   ],
   "source": [
    "names(df_2_1)"
   ]
  },
  {
   "cell_type": "markdown",
   "metadata": {},
   "source": [
    "### merge the df_2_1 and structures dataframes by adding the columns of structures dataframe according to the column atom_index_1 of train dataframe"
   ]
  },
  {
   "cell_type": "code",
   "execution_count": 18,
   "metadata": {
    "scrolled": true
   },
   "outputs": [],
   "source": [
    "df_2_2 = mergeDF(df_2_1,structures,[(:molecule_name, :molecule_name), (:atom_index_1, :atom_index)],1);"
   ]
  },
  {
   "cell_type": "code",
   "execution_count": 292,
   "metadata": {},
   "outputs": [
    {
     "name": "stdout",
     "output_type": "stream",
     "text": [
      "The size of df_2_2 is (4658147, 14)\n"
     ]
    }
   ],
   "source": [
    "println(\"The size of df_2_2 is $(size(df_2_2))\")"
   ]
  },
  {
   "cell_type": "code",
   "execution_count": 293,
   "metadata": {
    "scrolled": false
   },
   "outputs": [
    {
     "data": {
      "text/plain": [
       "14-element Array{Symbol,1}:\n",
       " :id                      \n",
       " :molecule_name           \n",
       " :atom_index_0            \n",
       " :atom_index_1            \n",
       " :type                    \n",
       " :scalar_coupling_constant\n",
       " :atom_0                  \n",
       " :x_0                     \n",
       " :y_0                     \n",
       " :z_0                     \n",
       " :atom_1                  \n",
       " :x_1                     \n",
       " :y_1                     \n",
       " :z_1                     "
      ]
     },
     "execution_count": 293,
     "metadata": {},
     "output_type": "execute_result"
    }
   ],
   "source": [
    "names(df_2_2)"
   ]
  },
  {
   "cell_type": "code",
   "execution_count": 295,
   "metadata": {},
   "outputs": [],
   "source": [
    "addColumns(columns_oneHot,names(df_2_2),[3,4,5,7,11])"
   ]
  },
  {
   "cell_type": "code",
   "execution_count": 296,
   "metadata": {
    "scrolled": true
   },
   "outputs": [
    {
     "data": {
      "text/plain": [
       "5-element Array{Any,1}:\n",
       " :atom_index_0\n",
       " :atom_index_1\n",
       " :type        \n",
       " :atom_0      \n",
       " :atom_1      "
      ]
     },
     "execution_count": 296,
     "metadata": {},
     "output_type": "execute_result"
    }
   ],
   "source": [
    "columns_oneHot"
   ]
  },
  {
   "cell_type": "markdown",
   "metadata": {},
   "source": [
    "### We will use df_2_2 as the training data. Now we have added structures parameters to the dataframe. And  we will  use Machine learning to check whether these parameters could produce an acceptable model."
   ]
  },
  {
   "cell_type": "markdown",
   "metadata": {},
   "source": [
    "#### delete_columns contains the columns that will be deleted from df_2_2"
   ]
  },
  {
   "cell_type": "code",
   "execution_count": 23,
   "metadata": {},
   "outputs": [],
   "source": [
    "delete_columns = [:id,:molecule_name,:scalar_coupling_constant];"
   ]
  },
  {
   "cell_type": "code",
   "execution_count": 24,
   "metadata": {},
   "outputs": [
    {
     "data": {
      "text/html": [
       "<table class=\"data-frame\"><thead><tr><th></th><th>atom_index_0</th><th>atom_index_1</th><th>type</th><th>atom_0</th><th>x_0</th><th>y_0</th><th>z_0</th></tr><tr><th></th><th>Int64</th><th>Int64</th><th>String</th><th>String</th><th>Float64</th><th>Float64</th><th>Float64</th></tr></thead><tbody><p>4,658,147 rows × 11 columns (omitted printing of 4 columns)</p><tr><th>1</th><td>1</td><td>0</td><td>1JHC</td><td>H</td><td>0.00215042</td><td>-0.00603132</td><td>0.00197612</td></tr><tr><th>2</th><td>1</td><td>2</td><td>2JHH</td><td>H</td><td>0.00215042</td><td>-0.00603132</td><td>0.00197612</td></tr><tr><th>3</th><td>1</td><td>3</td><td>2JHH</td><td>H</td><td>0.00215042</td><td>-0.00603132</td><td>0.00197612</td></tr><tr><th>4</th><td>1</td><td>4</td><td>2JHH</td><td>H</td><td>0.00215042</td><td>-0.00603132</td><td>0.00197612</td></tr><tr><th>5</th><td>2</td><td>0</td><td>1JHC</td><td>H</td><td>1.01173</td><td>1.46375</td><td>0.000276575</td></tr><tr><th>6</th><td>2</td><td>3</td><td>2JHH</td><td>H</td><td>1.01173</td><td>1.46375</td><td>0.000276575</td></tr><tr><th>7</th><td>2</td><td>4</td><td>2JHH</td><td>H</td><td>1.01173</td><td>1.46375</td><td>0.000276575</td></tr><tr><th>8</th><td>3</td><td>0</td><td>1JHC</td><td>H</td><td>-0.540815</td><td>1.44753</td><td>-0.876644</td></tr><tr><th>9</th><td>3</td><td>4</td><td>2JHH</td><td>H</td><td>-0.540815</td><td>1.44753</td><td>-0.876644</td></tr><tr><th>10</th><td>4</td><td>0</td><td>1JHC</td><td>H</td><td>-0.523814</td><td>1.43793</td><td>0.906397</td></tr><tr><th>11</th><td>1</td><td>0</td><td>1JHN</td><td>H</td><td>0.0172575</td><td>0.0125452</td><td>-0.0273772</td></tr><tr><th>12</th><td>1</td><td>2</td><td>2JHH</td><td>H</td><td>0.0172575</td><td>0.0125452</td><td>-0.0273772</td></tr><tr><th>13</th><td>1</td><td>3</td><td>2JHH</td><td>H</td><td>0.0172575</td><td>0.0125452</td><td>-0.0273772</td></tr><tr><th>14</th><td>2</td><td>0</td><td>1JHN</td><td>H</td><td>0.915789</td><td>1.35875</td><td>-0.0287578</td></tr><tr><th>15</th><td>2</td><td>3</td><td>2JHH</td><td>H</td><td>0.915789</td><td>1.35875</td><td>-0.0287578</td></tr><tr><th>16</th><td>3</td><td>0</td><td>1JHN</td><td>H</td><td>-0.520278</td><td>1.34353</td><td>-0.775543</td></tr><tr><th>17</th><td>1</td><td>2</td><td>2JHH</td><td>H</td><td>0.0647665</td><td>0.0205722</td><td>0.00153463</td></tr><tr><th>18</th><td>2</td><td>0</td><td>1JHC</td><td>H</td><td>-0.0278027</td><td>2.19895</td><td>0.0141538</td></tr><tr><th>19</th><td>2</td><td>1</td><td>2JHN</td><td>H</td><td>-0.0278027</td><td>2.19895</td><td>0.0141538</td></tr><tr><th>20</th><td>2</td><td>0</td><td>1JHC</td><td>H</td><td>0.994873</td><td>1.93974</td><td>0.0029412</td></tr><tr><th>21</th><td>2</td><td>1</td><td>2JHC</td><td>H</td><td>0.994873</td><td>1.93974</td><td>0.0029412</td></tr><tr><th>22</th><td>2</td><td>3</td><td>2JHH</td><td>H</td><td>0.994873</td><td>1.93974</td><td>0.0029412</td></tr><tr><th>23</th><td>2</td><td>4</td><td>2JHH</td><td>H</td><td>0.994873</td><td>1.93974</td><td>0.0029412</td></tr><tr><th>24</th><td>2</td><td>5</td><td>3JHH</td><td>H</td><td>0.994873</td><td>1.93974</td><td>0.0029412</td></tr><tr><th>25</th><td>2</td><td>6</td><td>3JHH</td><td>H</td><td>0.994873</td><td>1.93974</td><td>0.0029412</td></tr><tr><th>26</th><td>2</td><td>7</td><td>3JHH</td><td>H</td><td>0.994873</td><td>1.93974</td><td>0.0029412</td></tr><tr><th>27</th><td>3</td><td>0</td><td>1JHC</td><td>H</td><td>-0.542076</td><td>1.92361</td><td>-0.865117</td></tr><tr><th>28</th><td>3</td><td>1</td><td>2JHC</td><td>H</td><td>-0.542076</td><td>1.92361</td><td>-0.865117</td></tr><tr><th>29</th><td>3</td><td>4</td><td>2JHH</td><td>H</td><td>-0.542076</td><td>1.92361</td><td>-0.865117</td></tr><tr><th>30</th><td>3</td><td>5</td><td>3JHH</td><td>H</td><td>-0.542076</td><td>1.92361</td><td>-0.865117</td></tr><tr><th>&vellip;</th><td>&vellip;</td><td>&vellip;</td><td>&vellip;</td><td>&vellip;</td><td>&vellip;</td><td>&vellip;</td><td>&vellip;</td></tr></tbody></table>"
      ],
      "text/latex": [
       "\\begin{tabular}{r|cccccccc}\n",
       "\t& atom\\_index\\_0 & atom\\_index\\_1 & type & atom\\_0 & x\\_0 & y\\_0 & z\\_0 & \\\\\n",
       "\t\\hline\n",
       "\t& Int64 & Int64 & String & String & Float64 & Float64 & Float64 & \\\\\n",
       "\t\\hline\n",
       "\t1 & 1 & 0 & 1JHC & H & 0.00215042 & -0.00603132 & 0.00197612 & $\\dots$ \\\\\n",
       "\t2 & 1 & 2 & 2JHH & H & 0.00215042 & -0.00603132 & 0.00197612 & $\\dots$ \\\\\n",
       "\t3 & 1 & 3 & 2JHH & H & 0.00215042 & -0.00603132 & 0.00197612 & $\\dots$ \\\\\n",
       "\t4 & 1 & 4 & 2JHH & H & 0.00215042 & -0.00603132 & 0.00197612 & $\\dots$ \\\\\n",
       "\t5 & 2 & 0 & 1JHC & H & 1.01173 & 1.46375 & 0.000276575 & $\\dots$ \\\\\n",
       "\t6 & 2 & 3 & 2JHH & H & 1.01173 & 1.46375 & 0.000276575 & $\\dots$ \\\\\n",
       "\t7 & 2 & 4 & 2JHH & H & 1.01173 & 1.46375 & 0.000276575 & $\\dots$ \\\\\n",
       "\t8 & 3 & 0 & 1JHC & H & -0.540815 & 1.44753 & -0.876644 & $\\dots$ \\\\\n",
       "\t9 & 3 & 4 & 2JHH & H & -0.540815 & 1.44753 & -0.876644 & $\\dots$ \\\\\n",
       "\t10 & 4 & 0 & 1JHC & H & -0.523814 & 1.43793 & 0.906397 & $\\dots$ \\\\\n",
       "\t11 & 1 & 0 & 1JHN & H & 0.0172575 & 0.0125452 & -0.0273772 & $\\dots$ \\\\\n",
       "\t12 & 1 & 2 & 2JHH & H & 0.0172575 & 0.0125452 & -0.0273772 & $\\dots$ \\\\\n",
       "\t13 & 1 & 3 & 2JHH & H & 0.0172575 & 0.0125452 & -0.0273772 & $\\dots$ \\\\\n",
       "\t14 & 2 & 0 & 1JHN & H & 0.915789 & 1.35875 & -0.0287578 & $\\dots$ \\\\\n",
       "\t15 & 2 & 3 & 2JHH & H & 0.915789 & 1.35875 & -0.0287578 & $\\dots$ \\\\\n",
       "\t16 & 3 & 0 & 1JHN & H & -0.520278 & 1.34353 & -0.775543 & $\\dots$ \\\\\n",
       "\t17 & 1 & 2 & 2JHH & H & 0.0647665 & 0.0205722 & 0.00153463 & $\\dots$ \\\\\n",
       "\t18 & 2 & 0 & 1JHC & H & -0.0278027 & 2.19895 & 0.0141538 & $\\dots$ \\\\\n",
       "\t19 & 2 & 1 & 2JHN & H & -0.0278027 & 2.19895 & 0.0141538 & $\\dots$ \\\\\n",
       "\t20 & 2 & 0 & 1JHC & H & 0.994873 & 1.93974 & 0.0029412 & $\\dots$ \\\\\n",
       "\t21 & 2 & 1 & 2JHC & H & 0.994873 & 1.93974 & 0.0029412 & $\\dots$ \\\\\n",
       "\t22 & 2 & 3 & 2JHH & H & 0.994873 & 1.93974 & 0.0029412 & $\\dots$ \\\\\n",
       "\t23 & 2 & 4 & 2JHH & H & 0.994873 & 1.93974 & 0.0029412 & $\\dots$ \\\\\n",
       "\t24 & 2 & 5 & 3JHH & H & 0.994873 & 1.93974 & 0.0029412 & $\\dots$ \\\\\n",
       "\t25 & 2 & 6 & 3JHH & H & 0.994873 & 1.93974 & 0.0029412 & $\\dots$ \\\\\n",
       "\t26 & 2 & 7 & 3JHH & H & 0.994873 & 1.93974 & 0.0029412 & $\\dots$ \\\\\n",
       "\t27 & 3 & 0 & 1JHC & H & -0.542076 & 1.92361 & -0.865117 & $\\dots$ \\\\\n",
       "\t28 & 3 & 1 & 2JHC & H & -0.542076 & 1.92361 & -0.865117 & $\\dots$ \\\\\n",
       "\t29 & 3 & 4 & 2JHH & H & -0.542076 & 1.92361 & -0.865117 & $\\dots$ \\\\\n",
       "\t30 & 3 & 5 & 3JHH & H & -0.542076 & 1.92361 & -0.865117 & $\\dots$ \\\\\n",
       "\t$\\dots$ & $\\dots$ & $\\dots$ & $\\dots$ & $\\dots$ & $\\dots$ & $\\dots$ & $\\dots$ &  \\\\\n",
       "\\end{tabular}\n"
      ],
      "text/plain": [
       "4658147×11 DataFrame. Omitted printing of 6 columns\n",
       "│ Row     │ atom_index_0 │ atom_index_1 │ type   │ atom_0 │ x_0        │\n",
       "│         │ \u001b[90mInt64\u001b[39m        │ \u001b[90mInt64\u001b[39m        │ \u001b[90mString\u001b[39m │ \u001b[90mString\u001b[39m │ \u001b[90mFloat64\u001b[39m    │\n",
       "├─────────┼──────────────┼──────────────┼────────┼────────┼────────────┤\n",
       "│ 1       │ 1            │ 0            │ 1JHC   │ H      │ 0.00215042 │\n",
       "│ 2       │ 1            │ 2            │ 2JHH   │ H      │ 0.00215042 │\n",
       "│ 3       │ 1            │ 3            │ 2JHH   │ H      │ 0.00215042 │\n",
       "│ 4       │ 1            │ 4            │ 2JHH   │ H      │ 0.00215042 │\n",
       "│ 5       │ 2            │ 0            │ 1JHC   │ H      │ 1.01173    │\n",
       "│ 6       │ 2            │ 3            │ 2JHH   │ H      │ 1.01173    │\n",
       "│ 7       │ 2            │ 4            │ 2JHH   │ H      │ 1.01173    │\n",
       "│ 8       │ 3            │ 0            │ 1JHC   │ H      │ -0.540815  │\n",
       "│ 9       │ 3            │ 4            │ 2JHH   │ H      │ -0.540815  │\n",
       "│ 10      │ 4            │ 0            │ 1JHC   │ H      │ -0.523814  │\n",
       "⋮\n",
       "│ 4658137 │ 16           │ 7            │ 1JHC   │ H      │ -0.0845308 │\n",
       "│ 4658138 │ 16           │ 8            │ 2JHC   │ H      │ -0.0845308 │\n",
       "│ 4658139 │ 16           │ 17           │ 3JHH   │ H      │ -0.0845308 │\n",
       "│ 4658140 │ 17           │ 1            │ 3JHN   │ H      │ 1.12655    │\n",
       "│ 4658141 │ 17           │ 2            │ 3JHC   │ H      │ 1.12655    │\n",
       "│ 4658142 │ 17           │ 3            │ 2JHC   │ H      │ 1.12655    │\n",
       "│ 4658143 │ 17           │ 4            │ 2JHC   │ H      │ 1.12655    │\n",
       "│ 4658144 │ 17           │ 5            │ 3JHC   │ H      │ 1.12655    │\n",
       "│ 4658145 │ 17           │ 6            │ 3JHC   │ H      │ 1.12655    │\n",
       "│ 4658146 │ 17           │ 7            │ 2JHC   │ H      │ 1.12655    │\n",
       "│ 4658147 │ 17           │ 8            │ 1JHC   │ H      │ 1.12655    │"
      ]
     },
     "execution_count": 24,
     "metadata": {},
     "output_type": "execute_result"
    }
   ],
   "source": [
    "X = select(df_2_2,Not(delete_columns))"
   ]
  },
  {
   "cell_type": "markdown",
   "metadata": {},
   "source": [
    "### translate the columns into one hot batch"
   ]
  },
  {
   "cell_type": "code",
   "execution_count": 26,
   "metadata": {},
   "outputs": [
    {
     "data": {
      "text/plain": [
       "hotlize (generic function with 1 method)"
      ]
     },
     "execution_count": 26,
     "metadata": {},
     "output_type": "execute_result"
    }
   ],
   "source": [
    "function hotlize(df,column_name)\n",
    "    cate = unique(df[:,column_name])\n",
    "    lables = df[:,column_name]\n",
    "    hot = onehotbatch(lables,cate)\n",
    "    return hot\n",
    "end"
   ]
  },
  {
   "cell_type": "code",
   "execution_count": 299,
   "metadata": {},
   "outputs": [
    {
     "name": "stdout",
     "output_type": "stream",
     "text": [
      "  0.541678 seconds (27 allocations: 106.619 MiB, 24.97% gc time)\n",
      "elapsed time (ns): 541678423\n",
      "gc time (ns):      135250412\n",
      "bytes allocated:   111798240\n",
      "pool allocs:       24\n",
      "malloc() calls:    3\n",
      "GC pauses:         3\n"
     ]
    },
    {
     "data": {
      "text/plain": [
       "29×4658147 Flux.OneHotMatrix{Array{Flux.OneHotVector,1}}:\n",
       " 1  1  1  1  0  0  0  0  0  0  1  1  1  …  0  0  0  0  0  0  0  0  0  0  0  0\n",
       " 0  0  0  0  1  1  1  0  0  0  0  0  0     0  0  0  0  0  0  0  0  0  0  0  0\n",
       " 0  0  0  0  0  0  0  1  1  0  0  0  0     0  0  0  0  0  0  0  0  0  0  0  0\n",
       " 0  0  0  0  0  0  0  0  0  1  0  0  0     0  0  0  0  0  0  0  0  0  0  0  0\n",
       " 0  0  0  0  0  0  0  0  0  0  0  0  0     0  0  0  0  0  0  0  0  0  0  0  0\n",
       " 0  0  0  0  0  0  0  0  0  0  0  0  0  …  0  0  0  0  0  0  0  0  0  0  0  0\n",
       " 0  0  0  0  0  0  0  0  0  0  0  0  0     0  0  0  0  0  0  0  0  0  0  0  0\n",
       " 0  0  0  0  0  0  0  0  0  0  0  0  0     0  0  0  0  0  0  0  0  0  0  0  0\n",
       " 0  0  0  0  0  0  0  0  0  0  0  0  0     0  0  0  0  0  0  0  0  0  0  0  0\n",
       " 0  0  0  0  0  0  0  0  0  0  0  0  0     0  0  0  0  0  0  0  0  0  0  0  0\n",
       " 0  0  0  0  0  0  0  0  0  0  0  0  0  …  0  0  0  0  0  0  0  0  0  0  0  0\n",
       " 0  0  0  0  0  0  0  0  0  0  0  0  0     0  0  0  0  0  0  0  0  0  0  0  0\n",
       " 0  0  0  0  0  0  0  0  0  0  0  0  0     0  0  0  0  0  0  0  0  0  0  0  0\n",
       " ⋮              ⋮              ⋮        ⋱  ⋮              ⋮              ⋮   \n",
       " 0  0  0  0  0  0  0  0  0  0  0  0  0     0  0  0  0  0  0  0  0  0  0  0  0\n",
       " 0  0  0  0  0  0  0  0  0  0  0  0  0     0  0  0  0  0  0  0  0  0  0  0  0\n",
       " 0  0  0  0  0  0  0  0  0  0  0  0  0     0  0  0  0  0  0  0  0  0  0  0  0\n",
       " 0  0  0  0  0  0  0  0  0  0  0  0  0  …  0  0  0  0  0  0  0  0  0  0  0  0\n",
       " 0  0  0  0  0  0  0  0  0  0  0  0  0     0  0  0  0  0  0  0  0  0  0  0  0\n",
       " 0  0  0  0  0  0  0  0  0  0  0  0  0     0  0  0  0  0  0  0  0  0  0  0  0\n",
       " 0  0  0  0  0  0  0  0  0  0  0  0  0     0  0  0  0  0  0  0  0  0  0  0  0\n",
       " 0  0  0  0  0  0  0  0  0  0  0  0  0     0  0  0  0  0  0  0  0  0  0  0  0\n",
       " 0  0  0  0  0  0  0  0  0  0  0  0  0  …  0  0  0  0  0  0  0  0  0  0  0  0\n",
       " 0  0  0  0  0  0  0  0  0  0  0  0  0     0  0  0  0  0  0  0  0  0  0  0  0\n",
       " 0  0  0  0  0  0  0  0  0  0  0  0  0     0  0  0  0  0  0  0  0  0  0  0  0\n",
       " 0  0  0  0  0  0  0  0  0  0  0  0  0     0  0  0  0  0  0  0  0  0  0  0  0"
      ]
     },
     "execution_count": 299,
     "metadata": {},
     "output_type": "execute_result"
    }
   ],
   "source": [
    "@timev hot1 = hotlize(X,columns_oneHot[1])"
   ]
  },
  {
   "cell_type": "code",
   "execution_count": 300,
   "metadata": {},
   "outputs": [],
   "source": [
    "for i in columns_oneHot[2:end]\n",
    "    hot1 = vcat(hot1,hotlize(X,i))\n",
    "end"
   ]
  },
  {
   "cell_type": "code",
   "execution_count": 301,
   "metadata": {},
   "outputs": [
    {
     "data": {
      "text/plain": [
       "70×4658147 Array{Bool,2}:\n",
       " 1  1  1  1  0  0  0  0  0  0  1  1  1  …  0  0  0  0  0  0  0  0  0  0  0  0\n",
       " 0  0  0  0  1  1  1  0  0  0  0  0  0     0  0  0  0  0  0  0  0  0  0  0  0\n",
       " 0  0  0  0  0  0  0  1  1  0  0  0  0     0  0  0  0  0  0  0  0  0  0  0  0\n",
       " 0  0  0  0  0  0  0  0  0  1  0  0  0     0  0  0  0  0  0  0  0  0  0  0  0\n",
       " 0  0  0  0  0  0  0  0  0  0  0  0  0     0  0  0  0  0  0  0  0  0  0  0  0\n",
       " 0  0  0  0  0  0  0  0  0  0  0  0  0  …  0  0  0  0  0  0  0  0  0  0  0  0\n",
       " 0  0  0  0  0  0  0  0  0  0  0  0  0     0  0  0  0  0  0  0  0  0  0  0  0\n",
       " 0  0  0  0  0  0  0  0  0  0  0  0  0     0  0  0  0  0  0  0  0  0  0  0  0\n",
       " 0  0  0  0  0  0  0  0  0  0  0  0  0     0  0  0  0  0  0  0  0  0  0  0  0\n",
       " 0  0  0  0  0  0  0  0  0  0  0  0  0     0  0  0  0  0  0  0  0  0  0  0  0\n",
       " 0  0  0  0  0  0  0  0  0  0  0  0  0  …  0  0  0  0  0  0  0  0  0  0  0  0\n",
       " 0  0  0  0  0  0  0  0  0  0  0  0  0     0  0  0  0  0  0  0  0  0  0  0  0\n",
       " 0  0  0  0  0  0  0  0  0  0  0  0  0     0  0  0  0  0  0  0  0  0  0  0  0\n",
       " ⋮              ⋮              ⋮        ⋱  ⋮              ⋮              ⋮   \n",
       " 1  0  0  0  1  0  0  1  0  1  0  0  0     0  1  0  0  0  0  0  0  0  0  0  1\n",
       " 0  1  1  1  0  1  1  0  1  0  0  1  1     0  0  0  0  0  0  0  0  0  0  0  0\n",
       " 0  0  0  0  0  0  0  0  0  0  1  0  0  …  0  0  0  0  0  0  0  0  0  0  0  0\n",
       " 0  0  0  0  0  0  0  0  0  0  0  0  0     0  0  0  0  0  0  0  0  0  0  0  0\n",
       " 0  0  0  0  0  0  0  0  0  0  0  0  0     1  0  1  0  0  0  1  1  0  0  1  0\n",
       " 0  0  0  0  0  0  0  0  0  0  0  0  0     0  0  0  1  0  0  0  0  0  0  0  0\n",
       " 0  0  0  0  0  0  0  0  0  0  0  0  0     0  0  0  0  0  1  0  0  1  1  0  0\n",
       " 0  0  0  0  0  0  0  0  0  0  0  0  0  …  0  0  0  0  1  0  0  0  0  0  0  0\n",
       " 1  1  1  1  1  1  1  1  1  1  1  1  1     1  1  1  1  1  1  1  1  1  1  1  1\n",
       " 1  0  0  0  1  0  0  1  0  1  0  0  0     1  1  1  0  0  1  1  1  1  1  1  1\n",
       " 0  1  1  1  0  1  1  0  1  0  0  1  1     0  0  0  1  0  0  0  0  0  0  0  0\n",
       " 0  0  0  0  0  0  0  0  0  0  1  0  0     0  0  0  0  1  0  0  0  0  0  0  0"
      ]
     },
     "execution_count": 301,
     "metadata": {},
     "output_type": "execute_result"
    }
   ],
   "source": [
    "hot1"
   ]
  },
  {
   "cell_type": "code",
   "execution_count": 302,
   "metadata": {},
   "outputs": [
    {
     "name": "stderr",
     "output_type": "stream",
     "text": [
      "┌ Warning: `getindex(df::DataFrame, col_ind::ColumnIndex)` is deprecated, use `df[!, col_ind]` instead.\n",
      "│   caller = top-level scope at In[302]:1\n",
      "└ @ Core In[302]:1\n"
     ]
    },
    {
     "data": {
      "text/plain": [
       "4658147-element Array{Float64,1}:\n",
       "  84.8076  \n",
       " -11.257   \n",
       " -11.2548  \n",
       " -11.2543  \n",
       "  84.8074  \n",
       " -11.2541  \n",
       " -11.2548  \n",
       "  84.8093  \n",
       " -11.2543  \n",
       "  84.8095  \n",
       "  32.6889  \n",
       " -11.1866  \n",
       " -11.1757  \n",
       "   ⋮       \n",
       "   1.02549 \n",
       "  99.6572  \n",
       "   9.11973 \n",
       "   0.789559\n",
       "  -0.006537\n",
       "   1.94438 \n",
       "   0.861412\n",
       "   3.54345 \n",
       "   0.568997\n",
       "   1.17337 \n",
       "   4.76201 \n",
       " 117.934   "
      ]
     },
     "execution_count": 302,
     "metadata": {},
     "output_type": "execute_result"
    }
   ],
   "source": [
    "Y_train = df_2_2[:scalar_coupling_constant]"
   ]
  },
  {
   "cell_type": "markdown",
   "metadata": {},
   "source": [
    "#### X_remain contains the columns besides the columns in columns_oneHot"
   ]
  },
  {
   "cell_type": "code",
   "execution_count": 31,
   "metadata": {},
   "outputs": [
    {
     "data": {
      "text/html": [
       "<table class=\"data-frame\"><thead><tr><th></th><th>x_0</th><th>y_0</th><th>z_0</th><th>x_1</th><th>y_1</th><th>z_1</th></tr><tr><th></th><th>Float64</th><th>Float64</th><th>Float64</th><th>Float64</th><th>Float64</th><th>Float64</th></tr></thead><tbody><p>4,658,147 rows × 6 columns</p><tr><th>1</th><td>0.00215042</td><td>-0.00603132</td><td>0.00197612</td><td>-0.0126981</td><td>1.0858</td><td>0.008001</td></tr><tr><th>2</th><td>0.00215042</td><td>-0.00603132</td><td>0.00197612</td><td>1.01173</td><td>1.46375</td><td>0.000276575</td></tr><tr><th>3</th><td>0.00215042</td><td>-0.00603132</td><td>0.00197612</td><td>-0.540815</td><td>1.44753</td><td>-0.876644</td></tr><tr><th>4</th><td>0.00215042</td><td>-0.00603132</td><td>0.00197612</td><td>-0.523814</td><td>1.43793</td><td>0.906397</td></tr><tr><th>5</th><td>1.01173</td><td>1.46375</td><td>0.000276575</td><td>-0.0126981</td><td>1.0858</td><td>0.008001</td></tr><tr><th>6</th><td>1.01173</td><td>1.46375</td><td>0.000276575</td><td>-0.540815</td><td>1.44753</td><td>-0.876644</td></tr><tr><th>7</th><td>1.01173</td><td>1.46375</td><td>0.000276575</td><td>-0.523814</td><td>1.43793</td><td>0.906397</td></tr><tr><th>8</th><td>-0.540815</td><td>1.44753</td><td>-0.876644</td><td>-0.0126981</td><td>1.0858</td><td>0.008001</td></tr><tr><th>9</th><td>-0.540815</td><td>1.44753</td><td>-0.876644</td><td>-0.523814</td><td>1.43793</td><td>0.906397</td></tr><tr><th>10</th><td>-0.523814</td><td>1.43793</td><td>0.906397</td><td>-0.0126981</td><td>1.0858</td><td>0.008001</td></tr><tr><th>11</th><td>0.0172575</td><td>0.0125452</td><td>-0.0273772</td><td>-0.0404261</td><td>1.02411</td><td>0.0625638</td></tr><tr><th>12</th><td>0.0172575</td><td>0.0125452</td><td>-0.0273772</td><td>0.915789</td><td>1.35875</td><td>-0.0287578</td></tr><tr><th>13</th><td>0.0172575</td><td>0.0125452</td><td>-0.0273772</td><td>-0.520278</td><td>1.34353</td><td>-0.775543</td></tr><tr><th>14</th><td>0.915789</td><td>1.35875</td><td>-0.0287578</td><td>-0.0404261</td><td>1.02411</td><td>0.0625638</td></tr><tr><th>15</th><td>0.915789</td><td>1.35875</td><td>-0.0287578</td><td>-0.520278</td><td>1.34353</td><td>-0.775543</td></tr><tr><th>16</th><td>-0.520278</td><td>1.34353</td><td>-0.775543</td><td>-0.0404261</td><td>1.02411</td><td>0.0625638</td></tr><tr><th>17</th><td>0.0647665</td><td>0.0205722</td><td>0.00153463</td><td>0.87179</td><td>1.30079</td><td>0.000693134</td></tr><tr><th>18</th><td>-0.0278027</td><td>2.19895</td><td>0.0141538</td><td>-0.0133239</td><td>1.13247</td><td>0.00827589</td></tr><tr><th>19</th><td>-0.0278027</td><td>2.19895</td><td>0.0141538</td><td>0.00231072</td><td>-0.0191586</td><td>0.00192873</td></tr><tr><th>20</th><td>0.994873</td><td>1.93974</td><td>0.0029412</td><td>-0.018704</td><td>1.52558</td><td>0.0104328</td></tr><tr><th>21</th><td>0.994873</td><td>1.93974</td><td>0.0029412</td><td>0.00210374</td><td>-0.00388191</td><td>0.00199882</td></tr><tr><th>22</th><td>0.994873</td><td>1.93974</td><td>0.0029412</td><td>-0.542076</td><td>1.92361</td><td>-0.865117</td></tr><tr><th>23</th><td>0.994873</td><td>1.93974</td><td>0.0029412</td><td>-0.525241</td><td>1.91417</td><td>0.900024</td></tr><tr><th>24</th><td>0.994873</td><td>1.93974</td><td>0.0029412</td><td>0.525487</td><td>-0.401908</td><td>0.877544</td></tr><tr><th>25</th><td>0.994873</td><td>1.93974</td><td>0.0029412</td><td>-1.01148</td><td>-0.418034</td><td>0.00950849</td></tr><tr><th>26</th><td>0.994873</td><td>1.93974</td><td>0.0029412</td><td>0.508626</td><td>-0.39247</td><td>-0.887601</td></tr><tr><th>27</th><td>-0.542076</td><td>1.92361</td><td>-0.865117</td><td>-0.018704</td><td>1.52558</td><td>0.0104328</td></tr><tr><th>28</th><td>-0.542076</td><td>1.92361</td><td>-0.865117</td><td>0.00210374</td><td>-0.00388191</td><td>0.00199882</td></tr><tr><th>29</th><td>-0.542076</td><td>1.92361</td><td>-0.865117</td><td>-0.525241</td><td>1.91417</td><td>0.900024</td></tr><tr><th>30</th><td>-0.542076</td><td>1.92361</td><td>-0.865117</td><td>0.525487</td><td>-0.401908</td><td>0.877544</td></tr><tr><th>&vellip;</th><td>&vellip;</td><td>&vellip;</td><td>&vellip;</td><td>&vellip;</td><td>&vellip;</td><td>&vellip;</td></tr></tbody></table>"
      ],
      "text/latex": [
       "\\begin{tabular}{r|cccccc}\n",
       "\t& x\\_0 & y\\_0 & z\\_0 & x\\_1 & y\\_1 & z\\_1\\\\\n",
       "\t\\hline\n",
       "\t& Float64 & Float64 & Float64 & Float64 & Float64 & Float64\\\\\n",
       "\t\\hline\n",
       "\t1 & 0.00215042 & -0.00603132 & 0.00197612 & -0.0126981 & 1.0858 & 0.008001 \\\\\n",
       "\t2 & 0.00215042 & -0.00603132 & 0.00197612 & 1.01173 & 1.46375 & 0.000276575 \\\\\n",
       "\t3 & 0.00215042 & -0.00603132 & 0.00197612 & -0.540815 & 1.44753 & -0.876644 \\\\\n",
       "\t4 & 0.00215042 & -0.00603132 & 0.00197612 & -0.523814 & 1.43793 & 0.906397 \\\\\n",
       "\t5 & 1.01173 & 1.46375 & 0.000276575 & -0.0126981 & 1.0858 & 0.008001 \\\\\n",
       "\t6 & 1.01173 & 1.46375 & 0.000276575 & -0.540815 & 1.44753 & -0.876644 \\\\\n",
       "\t7 & 1.01173 & 1.46375 & 0.000276575 & -0.523814 & 1.43793 & 0.906397 \\\\\n",
       "\t8 & -0.540815 & 1.44753 & -0.876644 & -0.0126981 & 1.0858 & 0.008001 \\\\\n",
       "\t9 & -0.540815 & 1.44753 & -0.876644 & -0.523814 & 1.43793 & 0.906397 \\\\\n",
       "\t10 & -0.523814 & 1.43793 & 0.906397 & -0.0126981 & 1.0858 & 0.008001 \\\\\n",
       "\t11 & 0.0172575 & 0.0125452 & -0.0273772 & -0.0404261 & 1.02411 & 0.0625638 \\\\\n",
       "\t12 & 0.0172575 & 0.0125452 & -0.0273772 & 0.915789 & 1.35875 & -0.0287578 \\\\\n",
       "\t13 & 0.0172575 & 0.0125452 & -0.0273772 & -0.520278 & 1.34353 & -0.775543 \\\\\n",
       "\t14 & 0.915789 & 1.35875 & -0.0287578 & -0.0404261 & 1.02411 & 0.0625638 \\\\\n",
       "\t15 & 0.915789 & 1.35875 & -0.0287578 & -0.520278 & 1.34353 & -0.775543 \\\\\n",
       "\t16 & -0.520278 & 1.34353 & -0.775543 & -0.0404261 & 1.02411 & 0.0625638 \\\\\n",
       "\t17 & 0.0647665 & 0.0205722 & 0.00153463 & 0.87179 & 1.30079 & 0.000693134 \\\\\n",
       "\t18 & -0.0278027 & 2.19895 & 0.0141538 & -0.0133239 & 1.13247 & 0.00827589 \\\\\n",
       "\t19 & -0.0278027 & 2.19895 & 0.0141538 & 0.00231072 & -0.0191586 & 0.00192873 \\\\\n",
       "\t20 & 0.994873 & 1.93974 & 0.0029412 & -0.018704 & 1.52558 & 0.0104328 \\\\\n",
       "\t21 & 0.994873 & 1.93974 & 0.0029412 & 0.00210374 & -0.00388191 & 0.00199882 \\\\\n",
       "\t22 & 0.994873 & 1.93974 & 0.0029412 & -0.542076 & 1.92361 & -0.865117 \\\\\n",
       "\t23 & 0.994873 & 1.93974 & 0.0029412 & -0.525241 & 1.91417 & 0.900024 \\\\\n",
       "\t24 & 0.994873 & 1.93974 & 0.0029412 & 0.525487 & -0.401908 & 0.877544 \\\\\n",
       "\t25 & 0.994873 & 1.93974 & 0.0029412 & -1.01148 & -0.418034 & 0.00950849 \\\\\n",
       "\t26 & 0.994873 & 1.93974 & 0.0029412 & 0.508626 & -0.39247 & -0.887601 \\\\\n",
       "\t27 & -0.542076 & 1.92361 & -0.865117 & -0.018704 & 1.52558 & 0.0104328 \\\\\n",
       "\t28 & -0.542076 & 1.92361 & -0.865117 & 0.00210374 & -0.00388191 & 0.00199882 \\\\\n",
       "\t29 & -0.542076 & 1.92361 & -0.865117 & -0.525241 & 1.91417 & 0.900024 \\\\\n",
       "\t30 & -0.542076 & 1.92361 & -0.865117 & 0.525487 & -0.401908 & 0.877544 \\\\\n",
       "\t$\\dots$ & $\\dots$ & $\\dots$ & $\\dots$ & $\\dots$ & $\\dots$ & $\\dots$ \\\\\n",
       "\\end{tabular}\n"
      ],
      "text/plain": [
       "4658147×6 DataFrame. Omitted printing of 1 columns\n",
       "│ Row     │ x_0        │ y_0         │ z_0         │ x_1        │ y_1       │\n",
       "│         │ \u001b[90mFloat64\u001b[39m    │ \u001b[90mFloat64\u001b[39m     │ \u001b[90mFloat64\u001b[39m     │ \u001b[90mFloat64\u001b[39m    │ \u001b[90mFloat64\u001b[39m   │\n",
       "├─────────┼────────────┼─────────────┼─────────────┼────────────┼───────────┤\n",
       "│ 1       │ 0.00215042 │ -0.00603132 │ 0.00197612  │ -0.0126981 │ 1.0858    │\n",
       "│ 2       │ 0.00215042 │ -0.00603132 │ 0.00197612  │ 1.01173    │ 1.46375   │\n",
       "│ 3       │ 0.00215042 │ -0.00603132 │ 0.00197612  │ -0.540815  │ 1.44753   │\n",
       "│ 4       │ 0.00215042 │ -0.00603132 │ 0.00197612  │ -0.523814  │ 1.43793   │\n",
       "│ 5       │ 1.01173    │ 1.46375     │ 0.000276575 │ -0.0126981 │ 1.0858    │\n",
       "│ 6       │ 1.01173    │ 1.46375     │ 0.000276575 │ -0.540815  │ 1.44753   │\n",
       "│ 7       │ 1.01173    │ 1.46375     │ 0.000276575 │ -0.523814  │ 1.43793   │\n",
       "│ 8       │ -0.540815  │ 1.44753     │ -0.876644   │ -0.0126981 │ 1.0858    │\n",
       "│ 9       │ -0.540815  │ 1.44753     │ -0.876644   │ -0.523814  │ 1.43793   │\n",
       "│ 10      │ -0.523814  │ 1.43793     │ 0.906397    │ -0.0126981 │ 1.0858    │\n",
       "⋮\n",
       "│ 4658137 │ -0.0845308 │ 1.11081     │ -1.79674    │ -0.131901  │ 0.356983  │\n",
       "│ 4658138 │ -0.0845308 │ 1.11081     │ -1.79674    │ 0.787756   │ -0.840138 │\n",
       "│ 4658139 │ -0.0845308 │ 1.11081     │ -1.79674    │ 1.12655    │ -1.34873  │\n",
       "│ 4658140 │ 1.12655    │ -1.34873    │ -1.93384    │ -1.5711    │ 0.0479324 │\n",
       "│ 4658141 │ 1.12655    │ -1.34873    │ -1.93384    │ -0.75085   │ -0.602182 │\n",
       "│ 4658142 │ 1.12655    │ -1.34873    │ -1.93384    │ 0.326978   │ -1.55419  │\n",
       "│ 4658143 │ 1.12655    │ -1.34873    │ -1.93384    │ 1.62986    │ -0.747236 │\n",
       "│ 4658144 │ 1.12655    │ -1.34873    │ -1.93384    │ 1.41595    │ 0.620773  │\n",
       "│ 4658145 │ 1.12655    │ -1.34873    │ -1.93384    │ -0.0270757 │ 0.747033  │\n",
       "│ 4658146 │ 1.12655    │ -1.34873    │ -1.93384    │ -0.131901  │ 0.356983  │\n",
       "│ 4658147 │ 1.12655    │ -1.34873    │ -1.93384    │ 0.787756   │ -0.840138 │"
      ]
     },
     "execution_count": 31,
     "metadata": {},
     "output_type": "execute_result"
    }
   ],
   "source": [
    "X_remain = select(X,Not(columns_oneHot))"
   ]
  },
  {
   "cell_type": "markdown",
   "metadata": {},
   "source": [
    "### Convert the X_remain to a matrix"
   ]
  },
  {
   "cell_type": "code",
   "execution_count": 32,
   "metadata": {},
   "outputs": [
    {
     "data": {
      "text/plain": [
       "4658147×6 Array{Float64,2}:\n",
       "  0.00215042  -0.00603132   0.00197612   -0.0126981   1.0858      0.008001   \n",
       "  0.00215042  -0.00603132   0.00197612    1.01173     1.46375     0.000276575\n",
       "  0.00215042  -0.00603132   0.00197612   -0.540815    1.44753    -0.876644   \n",
       "  0.00215042  -0.00603132   0.00197612   -0.523814    1.43793     0.906397   \n",
       "  1.01173      1.46375      0.000276575  -0.0126981   1.0858      0.008001   \n",
       "  1.01173      1.46375      0.000276575  -0.540815    1.44753    -0.876644   \n",
       "  1.01173      1.46375      0.000276575  -0.523814    1.43793     0.906397   \n",
       " -0.540815     1.44753     -0.876644     -0.0126981   1.0858      0.008001   \n",
       " -0.540815     1.44753     -0.876644     -0.523814    1.43793     0.906397   \n",
       " -0.523814     1.43793      0.906397     -0.0126981   1.0858      0.008001   \n",
       "  0.0172575    0.0125452   -0.0273772    -0.0404261   1.02411     0.0625638  \n",
       "  0.0172575    0.0125452   -0.0273772     0.915789    1.35875    -0.0287578  \n",
       "  0.0172575    0.0125452   -0.0273772    -0.520278    1.34353    -0.775543   \n",
       "  ⋮                                                               ⋮          \n",
       " -0.0845308    1.11081     -1.79674      -0.0270757   0.747033    0.478506   \n",
       " -0.0845308    1.11081     -1.79674      -0.131901    0.356983   -1.0102     \n",
       " -0.0845308    1.11081     -1.79674       0.787756   -0.840138   -1.04215    \n",
       " -0.0845308    1.11081     -1.79674       1.12655    -1.34873    -1.93384    \n",
       "  1.12655     -1.34873     -1.93384      -1.5711      0.0479324  -0.491726   \n",
       "  1.12655     -1.34873     -1.93384      -0.75085    -0.602182    0.665932   \n",
       "  1.12655     -1.34873     -1.93384       0.326978   -1.55419     0.205661   \n",
       "  1.12655     -1.34873     -1.93384       1.62986    -0.747236    0.235262   \n",
       "  1.12655     -1.34873     -1.93384       1.41595     0.620773    0.939122   \n",
       "  1.12655     -1.34873     -1.93384      -0.0270757   0.747033    0.478506   \n",
       "  1.12655     -1.34873     -1.93384      -0.131901    0.356983   -1.0102     \n",
       "  1.12655     -1.34873     -1.93384       0.787756   -0.840138   -1.04215    "
      ]
     },
     "execution_count": 32,
     "metadata": {},
     "output_type": "execute_result"
    }
   ],
   "source": [
    "M_X = convert(Matrix,X_remain)"
   ]
  },
  {
   "cell_type": "markdown",
   "metadata": {},
   "source": [
    "### Transpose the matrix M_X"
   ]
  },
  {
   "cell_type": "code",
   "execution_count": 224,
   "metadata": {},
   "outputs": [
    {
     "data": {
      "text/plain": [
       "6×4658147 Adjoint{Float64,Array{Float64,2}}:\n",
       "  0.00215042   0.00215042    0.00215042  …   1.12655     1.12655    1.12655 \n",
       " -0.00603132  -0.00603132   -0.00603132     -1.34873    -1.34873   -1.34873 \n",
       "  0.00197612   0.00197612    0.00197612     -1.93384    -1.93384   -1.93384 \n",
       " -0.0126981    1.01173      -0.540815       -0.0270757  -0.131901   0.787756\n",
       "  1.0858       1.46375       1.44753         0.747033    0.356983  -0.840138\n",
       "  0.008001     0.000276575  -0.876644    …   0.478506   -1.0102    -1.04215 "
      ]
     },
     "execution_count": 224,
     "metadata": {},
     "output_type": "execute_result"
    }
   ],
   "source": [
    "MT_X = M_X'"
   ]
  },
  {
   "cell_type": "markdown",
   "metadata": {},
   "source": [
    "### combine the MT_X and hot1 matrix. The overall matrix(x) is the data we will use to train the model"
   ]
  },
  {
   "cell_type": "code",
   "execution_count": 34,
   "metadata": {},
   "outputs": [
    {
     "data": {
      "text/plain": [
       "76×4658147 Array{Float64,2}:\n",
       "  1.0          1.0           1.0         …   0.0         0.0        0.0     \n",
       "  0.0          0.0           0.0             0.0         0.0        0.0     \n",
       "  0.0          0.0           0.0             0.0         0.0        0.0     \n",
       "  0.0          0.0           0.0             0.0         0.0        0.0     \n",
       "  0.0          0.0           0.0             0.0         0.0        0.0     \n",
       "  0.0          0.0           0.0         …   0.0         0.0        0.0     \n",
       "  0.0          0.0           0.0             0.0         0.0        0.0     \n",
       "  0.0          0.0           0.0             0.0         0.0        0.0     \n",
       "  0.0          0.0           0.0             0.0         0.0        0.0     \n",
       "  0.0          0.0           0.0             0.0         0.0        0.0     \n",
       "  0.0          0.0           0.0         …   0.0         0.0        0.0     \n",
       "  0.0          0.0           0.0             0.0         0.0        0.0     \n",
       "  0.0          0.0           0.0             0.0         0.0        0.0     \n",
       "  ⋮                                      ⋱               ⋮                  \n",
       "  0.0          0.0           0.0             1.0         0.0        0.0     \n",
       "  0.0          0.0           0.0         …   0.0         0.0        0.0     \n",
       "  1.0          1.0           1.0             1.0         1.0        1.0     \n",
       "  1.0          0.0           0.0             1.0         1.0        1.0     \n",
       "  0.0          1.0           1.0             0.0         0.0        0.0     \n",
       "  0.0          0.0           0.0             0.0         0.0        0.0     \n",
       "  0.00215042   0.00215042    0.00215042  …   1.12655     1.12655    1.12655 \n",
       " -0.00603132  -0.00603132   -0.00603132     -1.34873    -1.34873   -1.34873 \n",
       "  0.00197612   0.00197612    0.00197612     -1.93384    -1.93384   -1.93384 \n",
       " -0.0126981    1.01173      -0.540815       -0.0270757  -0.131901   0.787756\n",
       "  1.0858       1.46375       1.44753         0.747033    0.356983  -0.840138\n",
       "  0.008001     0.000276575  -0.876644    …   0.478506   -1.0102    -1.04215 "
      ]
     },
     "execution_count": 34,
     "metadata": {},
     "output_type": "execute_result"
    }
   ],
   "source": [
    "x = vcat(hot1,MT_X)"
   ]
  },
  {
   "cell_type": "markdown",
   "metadata": {},
   "source": [
    "### The target value y"
   ]
  },
  {
   "cell_type": "code",
   "execution_count": 306,
   "metadata": {},
   "outputs": [
    {
     "data": {
      "text/plain": [
       "1×4658147 Adjoint{Float64,Array{Float64,1}}:\n",
       " 84.8076  -11.257  -11.2548  -11.2543  …  0.568997  1.17337  4.76201  117.934"
      ]
     },
     "execution_count": 306,
     "metadata": {},
     "output_type": "execute_result"
    }
   ],
   "source": [
    "y = Y_train'"
   ]
  },
  {
   "cell_type": "markdown",
   "metadata": {},
   "source": [
    "### Spliting the data into (x_train,y_train), (x_test,y_test)"
   ]
  },
  {
   "cell_type": "code",
   "execution_count": 156,
   "metadata": {
    "scrolled": true
   },
   "outputs": [
    {
     "data": {
      "text/plain": [
       "([0.0 0.0 … 0.0 0.0; 0.0 0.0 … 0.0 0.0; … ; -0.8907004178 6.813941901 … -0.6331429994 -0.777584271; -0.9283688187 0.3250844165 … -1.360241962 1.275119252], [8.1091 -1.013 … 88.0636 -1.59181])"
      ]
     },
     "execution_count": 156,
     "metadata": {},
     "output_type": "execute_result"
    }
   ],
   "source": [
    "Xs, Ys = shuffleobs((x, y))"
   ]
  },
  {
   "cell_type": "code",
   "execution_count": 157,
   "metadata": {
    "scrolled": false
   },
   "outputs": [
    {
     "data": {
      "text/plain": [
       "(([0.0 0.0 … 0.0 0.0; 0.0 0.0 … 0.0 0.0; … ; -0.8907004178 6.813941901 … -0.0454236917 3.273593606; -0.9283688187 0.3250844165 … -2.155780183 -0.4422880514], [8.1091 -1.013 … 0.697691 8.27806]), ([0.0 0.0 … 0.0 0.0; 0.0 0.0 … 0.0 0.0; … ; 0.1994557395 -0.4635824252 … -0.6331429994 -0.777584271; -0.948272546 2.349988992 … -1.360241962 1.275119252], [1.95463 0.198646 … 88.0636 -1.59181]))"
      ]
     },
     "execution_count": 157,
     "metadata": {},
     "output_type": "execute_result"
    }
   ],
   "source": [
    "(x_train,y_train), (x_test,y_test) = splitobs((Xs, Ys); at = 0.1)"
   ]
  },
  {
   "cell_type": "code",
   "execution_count": 158,
   "metadata": {
    "scrolled": true
   },
   "outputs": [
    {
     "data": {
      "text/plain": [
       "(76, 465815)"
      ]
     },
     "execution_count": 158,
     "metadata": {},
     "output_type": "execute_result"
    }
   ],
   "source": [
    "size(x_train)"
   ]
  },
  {
   "cell_type": "markdown",
   "metadata": {},
   "source": [
    "### The model 1"
   ]
  },
  {
   "cell_type": "code",
   "execution_count": 163,
   "metadata": {},
   "outputs": [
    {
     "data": {
      "text/plain": [
       "Chain(Dense(76, 1))"
      ]
     },
     "execution_count": 163,
     "metadata": {},
     "output_type": "execute_result"
    }
   ],
   "source": [
    "m = Chain(\n",
    "    Dense(76,1),\n",
    "      \n",
    ")"
   ]
  },
  {
   "cell_type": "code",
   "execution_count": 164,
   "metadata": {},
   "outputs": [
    {
     "data": {
      "text/plain": [
       "loss (generic function with 1 method)"
      ]
     },
     "execution_count": 164,
     "metadata": {},
     "output_type": "execute_result"
    }
   ],
   "source": [
    "loss(x, y) = Flux.mse(m(x_train), y_train)"
   ]
  },
  {
   "cell_type": "code",
   "execution_count": 166,
   "metadata": {},
   "outputs": [
    {
     "data": {
      "text/plain": [
       "ADAM(0.001, (0.9, 0.999), IdDict{Any,Any}())"
      ]
     },
     "execution_count": 166,
     "metadata": {},
     "output_type": "execute_result"
    }
   ],
   "source": [
    "dataset = repeated((x_train, y_train), 20)\n",
    "evalcb = () -> @show(loss(x_train, y_train))\n",
    "opt = ADAM()"
   ]
  },
  {
   "cell_type": "code",
   "execution_count": 167,
   "metadata": {
    "scrolled": true
   },
   "outputs": [
    {
     "name": "stdout",
     "output_type": "stream",
     "text": [
      "loss(x_train, y_train) = 1477.0165649124863 (tracked)\n",
      "loss(x_train, y_train) = 1475.8624892874047 (tracked)\n",
      "loss(x_train, y_train) = 1474.7116969436463 (tracked)\n",
      "loss(x_train, y_train) = 1473.5644123348882 (tracked)\n"
     ]
    }
   ],
   "source": [
    "Flux.train!(loss, params(m), dataset, opt, cb = throttle(evalcb, 2))"
   ]
  },
  {
   "cell_type": "markdown",
   "metadata": {},
   "source": [
    "### we will see that the learning rate is too slow when learning rate is 0.001. So we will change the parameter learning rate to 0.2"
   ]
  },
  {
   "cell_type": "code",
   "execution_count": 168,
   "metadata": {},
   "outputs": [
    {
     "data": {
      "text/plain": [
       "ADAM(0.2, (0.9, 0.999), IdDict{Any,Any}())"
      ]
     },
     "execution_count": 168,
     "metadata": {},
     "output_type": "execute_result"
    }
   ],
   "source": [
    "opt = ADAM(0.2)"
   ]
  },
  {
   "cell_type": "code",
   "execution_count": 169,
   "metadata": {},
   "outputs": [
    {
     "name": "stdout",
     "output_type": "stream",
     "text": [
      "loss(x_train, y_train) = 1429.2387350407407 (tracked)\n",
      "loss(x_train, y_train) = 1296.2363468343292 (tracked)\n",
      "loss(x_train, y_train) = 1195.6178266401696 (tracked)\n",
      "loss(x_train, y_train) = 1091.3735784155167 (tracked)\n",
      "loss(x_train, y_train) = 1012.1967266888711 (tracked)\n"
     ]
    }
   ],
   "source": [
    "Flux.train!(loss, params(m), dataset, opt, cb = throttle(evalcb, 2))"
   ]
  },
  {
   "cell_type": "markdown",
   "metadata": {},
   "source": [
    "### That's much better. How about changing the learning rate to 0.5"
   ]
  },
  {
   "cell_type": "code",
   "execution_count": 171,
   "metadata": {},
   "outputs": [
    {
     "data": {
      "text/plain": [
       "ADAM(0.5, (0.9, 0.999), IdDict{Any,Any}())"
      ]
     },
     "execution_count": 171,
     "metadata": {},
     "output_type": "execute_result"
    }
   ],
   "source": [
    "opt = ADAM(0.5)"
   ]
  },
  {
   "cell_type": "code",
   "execution_count": 172,
   "metadata": {},
   "outputs": [
    {
     "name": "stdout",
     "output_type": "stream",
     "text": [
      "loss(x_train, y_train) = 966.6196634607235 (tracked)\n",
      "loss(x_train, y_train) = 834.6004407233077 (tracked)\n",
      "loss(x_train, y_train) = 728.0746106716643 (tracked)\n",
      "loss(x_train, y_train) = 637.2567203455269 (tracked)\n"
     ]
    }
   ],
   "source": [
    "Flux.train!(loss, params(m), dataset, opt, cb = throttle(evalcb, 2))"
   ]
  },
  {
   "cell_type": "markdown",
   "metadata": {},
   "source": [
    "### Much better. In this problem, mybe we should set a high learning rate at first, and then set a low learning rate at the end of process. Next we will change the following parameters: dataset = repeated((x_train, y_train), 100), and the learning rate = 0.1"
   ]
  },
  {
   "cell_type": "code",
   "execution_count": 173,
   "metadata": {},
   "outputs": [
    {
     "data": {
      "text/plain": [
       "ADAM(0.1, (0.9, 0.999), IdDict{Any,Any}())"
      ]
     },
     "execution_count": 173,
     "metadata": {},
     "output_type": "execute_result"
    }
   ],
   "source": [
    "dataset = repeated((x_train, y_train), 100)\n",
    "opt = ADAM(0.1)"
   ]
  },
  {
   "cell_type": "code",
   "execution_count": 174,
   "metadata": {},
   "outputs": [
    {
     "name": "stdout",
     "output_type": "stream",
     "text": [
      "loss(x_train, y_train) = 570.4828376743883 (tracked)\n",
      "loss(x_train, y_train) = 557.2269766707021 (tracked)\n",
      "loss(x_train, y_train) = 541.5115158687368 (tracked)\n",
      "loss(x_train, y_train) = 526.3296816079801 (tracked)\n",
      "loss(x_train, y_train) = 511.6144914700099 (tracked)\n",
      "loss(x_train, y_train) = 497.35314133362084 (tracked)\n",
      "loss(x_train, y_train) = 483.53241318685207 (tracked)\n",
      "loss(x_train, y_train) = 470.10537193048697 (tracked)\n",
      "loss(x_train, y_train) = 457.0383508228054 (tracked)\n",
      "loss(x_train, y_train) = 444.3140884307231 (tracked)\n",
      "loss(x_train, y_train) = 431.91514194161687 (tracked)\n",
      "loss(x_train, y_train) = 419.825626147481 (tracked)\n",
      "loss(x_train, y_train) = 408.0379878731446 (tracked)\n",
      "loss(x_train, y_train) = 396.54705073673495 (tracked)\n",
      "loss(x_train, y_train) = 385.34888724881745 (tracked)\n",
      "loss(x_train, y_train) = 374.44072969405494 (tracked)\n",
      "loss(x_train, y_train) = 363.81857680283787 (tracked)\n",
      "loss(x_train, y_train) = 353.4777625238747 (tracked)\n",
      "loss(x_train, y_train) = 345.40440831548636 (tracked)\n",
      "loss(x_train, y_train) = 335.5575881283144 (tracked)\n",
      "loss(x_train, y_train) = 327.87283480753905 (tracked)\n"
     ]
    }
   ],
   "source": [
    "Flux.train!(loss, params(m), dataset, opt, cb = throttle(evalcb, 2))"
   ]
  },
  {
   "cell_type": "markdown",
   "metadata": {},
   "source": [
    "### Set the learning rate to 0.3"
   ]
  },
  {
   "cell_type": "code",
   "execution_count": 175,
   "metadata": {},
   "outputs": [
    {
     "data": {
      "text/plain": [
       "ADAM(0.3, (0.9, 0.999), IdDict{Any,Any}())"
      ]
     },
     "execution_count": 175,
     "metadata": {},
     "output_type": "execute_result"
    }
   ],
   "source": [
    "opt = ADAM(0.3)"
   ]
  },
  {
   "cell_type": "code",
   "execution_count": 176,
   "metadata": {},
   "outputs": [
    {
     "name": "stdout",
     "output_type": "stream",
     "text": [
      "loss(x_train, y_train) = 322.00121252091174 (tracked)\n",
      "loss(x_train, y_train) = 287.22376250954795 (tracked)\n",
      "loss(x_train, y_train) = 258.3510357330749 (tracked)\n",
      "loss(x_train, y_train) = 231.83193480990994 (tracked)\n",
      "loss(x_train, y_train) = 207.58408690172362 (tracked)\n",
      "loss(x_train, y_train) = 185.69113229969312 (tracked)\n",
      "loss(x_train, y_train) = 166.26447027891876 (tracked)\n",
      "loss(x_train, y_train) = 149.17266267557213 (tracked)\n",
      "loss(x_train, y_train) = 134.25413269243015 (tracked)\n",
      "loss(x_train, y_train) = 121.35342347611018 (tracked)\n",
      "loss(x_train, y_train) = 110.29895708287255 (tracked)\n",
      "loss(x_train, y_train) = 100.91437068771657 (tracked)\n",
      "loss(x_train, y_train) = 93.02714421125683 (tracked)\n",
      "loss(x_train, y_train) = 86.46552139522369 (tracked)\n",
      "loss(x_train, y_train) = 81.06146443281605 (tracked)\n",
      "loss(x_train, y_train) = 76.6561105174408 (tracked)\n",
      "loss(x_train, y_train) = 73.7513878380346 (tracked)\n",
      "loss(x_train, y_train) = 70.78212175435377 (tracked)\n",
      "loss(x_train, y_train) = 68.43390084672384 (tracked)\n",
      "loss(x_train, y_train) = 66.59760992613909 (tracked)\n",
      "loss(x_train, y_train) = 65.17808683063099 (tracked)\n"
     ]
    }
   ],
   "source": [
    "Flux.train!(loss, params(m), dataset, opt, cb = throttle(evalcb, 2))"
   ]
  },
  {
   "cell_type": "markdown",
   "metadata": {},
   "source": [
    "### Check the model"
   ]
  },
  {
   "cell_type": "markdown",
   "metadata": {},
   "source": [
    "### training data"
   ]
  },
  {
   "cell_type": "code",
   "execution_count": 272,
   "metadata": {},
   "outputs": [
    {
     "data": {
      "text/plain": [
       "Tracked 1×10 Array{Float32,2}:\n",
       " 4.59979  3.16413  7.17627  1.67221  …  2.30562  2.3314  91.2066  4.44909"
      ]
     },
     "execution_count": 272,
     "metadata": {},
     "output_type": "execute_result"
    }
   ],
   "source": [
    "train_check = m(x_train[:,1:10])"
   ]
  },
  {
   "cell_type": "code",
   "execution_count": 178,
   "metadata": {},
   "outputs": [
    {
     "data": {
      "text/plain": [
       "1×10 Array{Float64,2}:\n",
       " 8.1091  -1.013  8.06721  -1.20206  …  -1.0258  -0.415738  103.367  1.6762"
      ]
     },
     "execution_count": 178,
     "metadata": {},
     "output_type": "execute_result"
    }
   ],
   "source": [
    "y_train[:,1:10]"
   ]
  },
  {
   "cell_type": "code",
   "execution_count": 278,
   "metadata": {},
   "outputs": [
    {
     "name": "stdout",
     "output_type": "stream",
     "text": [
      "(4.5997868f0 (tracked), 8.1091)\n",
      "(3.164126f0 (tracked), -1.013)\n",
      "(7.1762743f0 (tracked), 8.06721)\n",
      "(1.6722097f0 (tracked), -1.20206)\n",
      "(4.7480025f0 (tracked), -0.164238)\n",
      "(3.7005816f0 (tracked), 1.80993)\n",
      "(2.3056245f0 (tracked), -1.0258)\n",
      "(2.331396f0 (tracked), -0.415738)\n",
      "(91.20658f0 (tracked), 103.367)\n",
      "(4.449092f0 (tracked), 1.6762)\n"
     ]
    }
   ],
   "source": [
    "for i in zip(train_check',y_train[1:10])\n",
    "    println(i)\n",
    "end"
   ]
  },
  {
   "cell_type": "markdown",
   "metadata": {},
   "source": [
    "### testing data"
   ]
  },
  {
   "cell_type": "code",
   "execution_count": 274,
   "metadata": {},
   "outputs": [
    {
     "data": {
      "text/plain": [
       "Tracked 1×10 Array{Float32,2}:\n",
       " 5.57158  6.60521  5.96639  1.35686  …  1.42906  1.29768  91.4144  4.22793"
      ]
     },
     "execution_count": 274,
     "metadata": {},
     "output_type": "execute_result"
    }
   ],
   "source": [
    "test_check = m(x_test[:,1:10])"
   ]
  },
  {
   "cell_type": "code",
   "execution_count": 181,
   "metadata": {},
   "outputs": [
    {
     "data": {
      "text/plain": [
       "1×10 Array{Float64,2}:\n",
       " 1.95463  0.198646  3.1511  -1.81079  …  -1.00772  91.2698  0.899873"
      ]
     },
     "execution_count": 181,
     "metadata": {},
     "output_type": "execute_result"
    }
   ],
   "source": [
    "y_test[:,1:10]"
   ]
  },
  {
   "cell_type": "code",
   "execution_count": 279,
   "metadata": {},
   "outputs": [
    {
     "name": "stdout",
     "output_type": "stream",
     "text": [
      "(5.571581f0 (tracked), 1.95463)\n",
      "(6.6052094f0 (tracked), 0.198646)\n",
      "(5.966392f0 (tracked), 3.1511)\n",
      "(1.3568573f0 (tracked), -1.81079)\n",
      "(5.3730454f0 (tracked), 0.839303)\n",
      "(4.6628094f0 (tracked), 1.04344)\n",
      "(1.42906f0 (tracked), 5.62805)\n",
      "(1.297679f0 (tracked), -1.00772)\n",
      "(91.41441f0 (tracked), 91.2698)\n",
      "(4.2279286f0 (tracked), 0.899873)\n"
     ]
    }
   ],
   "source": [
    "for i in zip(test_check',y_test[1:10])\n",
    "    println(i)\n",
    "end"
   ]
  },
  {
   "cell_type": "markdown",
   "metadata": {},
   "source": [
    "### From the above result, we can see that the higher the value is, the better result we can get from the model."
   ]
  },
  {
   "cell_type": "markdown",
   "metadata": {},
   "source": [
    "## Next, we will add more parameters to the dataframe. And check whether more parameters could create a better model."
   ]
  },
  {
   "cell_type": "markdown",
   "metadata": {},
   "source": [
    "### Display other files information"
   ]
  },
  {
   "cell_type": "code",
   "execution_count": 182,
   "metadata": {},
   "outputs": [],
   "source": [
    "dipole_moments =  CSV.read(\"./champs-scalar-coupling/dipole_moments.csv\");\n",
    "magnetic_shielding_tensors = CSV.read(\"./champs-scalar-coupling/magnetic_shielding_tensors.csv\");\n",
    "mulliken_charges = CSV.read(\"./champs-scalar-coupling/mulliken_charges.csv\");\n",
    "potential_energy = CSV.read(\"./champs-scalar-coupling/potential_energy.csv\");\n",
    "scalar_coupling_contributions = CSV.read(\"./champs-scalar-coupling/scalar_coupling_contributions.csv\");"
   ]
  },
  {
   "cell_type": "markdown",
   "metadata": {},
   "source": [
    "### df_3 consist of train, structures, dipole_moments dataframes"
   ]
  },
  {
   "cell_type": "code",
   "execution_count": 183,
   "metadata": {
    "scrolled": false
   },
   "outputs": [
    {
     "name": "stdout",
     "output_type": "stream",
     "text": [
      "the size of dipole_moments: (85003, 4)\n"
     ]
    },
    {
     "data": {
      "text/html": [
       "<table class=\"data-frame\"><thead><tr><th></th><th>molecule_name</th><th>X</th><th>Y</th><th>Z</th></tr><tr><th></th><th>String</th><th>Float64</th><th>Float64</th><th>Float64</th></tr></thead><tbody><p>5 rows × 4 columns</p><tr><th>1</th><td>dsgdb9nsd_000001</td><td>0.0</td><td>0.0</td><td>0.0</td></tr><tr><th>2</th><td>dsgdb9nsd_000002</td><td>-0.0002</td><td>0.0</td><td>1.6256</td></tr><tr><th>3</th><td>dsgdb9nsd_000003</td><td>0.0</td><td>0.0</td><td>-1.8511</td></tr><tr><th>4</th><td>dsgdb9nsd_000005</td><td>0.0</td><td>0.0</td><td>-2.8937</td></tr><tr><th>5</th><td>dsgdb9nsd_000007</td><td>0.0</td><td>0.0</td><td>0.0</td></tr></tbody></table>"
      ],
      "text/latex": [
       "\\begin{tabular}{r|cccc}\n",
       "\t& molecule\\_name & X & Y & Z\\\\\n",
       "\t\\hline\n",
       "\t& String & Float64 & Float64 & Float64\\\\\n",
       "\t\\hline\n",
       "\t1 & dsgdb9nsd\\_000001 & 0.0 & 0.0 & 0.0 \\\\\n",
       "\t2 & dsgdb9nsd\\_000002 & -0.0002 & 0.0 & 1.6256 \\\\\n",
       "\t3 & dsgdb9nsd\\_000003 & 0.0 & 0.0 & -1.8511 \\\\\n",
       "\t4 & dsgdb9nsd\\_000005 & 0.0 & 0.0 & -2.8937 \\\\\n",
       "\t5 & dsgdb9nsd\\_000007 & 0.0 & 0.0 & 0.0 \\\\\n",
       "\\end{tabular}\n"
      ],
      "text/plain": [
       "5×4 DataFrame\n",
       "│ Row │ molecule_name    │ X       │ Y       │ Z       │\n",
       "│     │ \u001b[90mString\u001b[39m           │ \u001b[90mFloat64\u001b[39m │ \u001b[90mFloat64\u001b[39m │ \u001b[90mFloat64\u001b[39m │\n",
       "├─────┼──────────────────┼─────────┼─────────┼─────────┤\n",
       "│ 1   │ dsgdb9nsd_000001 │ 0.0     │ 0.0     │ 0.0     │\n",
       "│ 2   │ dsgdb9nsd_000002 │ -0.0002 │ 0.0     │ 1.6256  │\n",
       "│ 3   │ dsgdb9nsd_000003 │ 0.0     │ 0.0     │ -1.8511 │\n",
       "│ 4   │ dsgdb9nsd_000005 │ 0.0     │ 0.0     │ -2.8937 │\n",
       "│ 5   │ dsgdb9nsd_000007 │ 0.0     │ 0.0     │ 0.0     │"
      ]
     },
     "execution_count": 183,
     "metadata": {},
     "output_type": "execute_result"
    }
   ],
   "source": [
    "println(\"the size of dipole_moments: $(size(dipole_moments))\")\n",
    "dipole_moments[1:5,:]"
   ]
  },
  {
   "cell_type": "code",
   "execution_count": 185,
   "metadata": {},
   "outputs": [],
   "source": [
    "df_3 = mergeDF(df_2_2,dipole_moments,[(:molecule_name,:molecule_name)],\"dipole_moments\");"
   ]
  },
  {
   "cell_type": "code",
   "execution_count": 186,
   "metadata": {},
   "outputs": [
    {
     "name": "stdout",
     "output_type": "stream",
     "text": [
      "The size of df3 is (4658147, 17)\n"
     ]
    }
   ],
   "source": [
    "println(\"The size of df3 is $(size(df_3))\")"
   ]
  },
  {
   "cell_type": "code",
   "execution_count": 307,
   "metadata": {},
   "outputs": [
    {
     "data": {
      "text/plain": [
       "17-element Array{Symbol,1}:\n",
       " :id                      \n",
       " :molecule_name           \n",
       " :atom_index_0            \n",
       " :atom_index_1            \n",
       " :type                    \n",
       " :scalar_coupling_constant\n",
       " :atom_0                  \n",
       " :x_0                     \n",
       " :y_0                     \n",
       " :z_0                     \n",
       " :atom_1                  \n",
       " :x_1                     \n",
       " :y_1                     \n",
       " :z_1                     \n",
       " :X_dipole_moments        \n",
       " :Y_dipole_moments        \n",
       " :Z_dipole_moments        "
      ]
     },
     "execution_count": 307,
     "metadata": {},
     "output_type": "execute_result"
    }
   ],
   "source": [
    "names(df_3)"
   ]
  },
  {
   "cell_type": "markdown",
   "metadata": {},
   "source": [
    "### df_4 consist of train, structures, dipole_moments, mulliken_charges dataframes"
   ]
  },
  {
   "cell_type": "code",
   "execution_count": 188,
   "metadata": {},
   "outputs": [
    {
     "name": "stdout",
     "output_type": "stream",
     "text": [
      "the size of mulliken_charges: (1533537, 3)\n"
     ]
    },
    {
     "data": {
      "text/html": [
       "<table class=\"data-frame\"><thead><tr><th></th><th>molecule_name</th><th>atom_index</th><th>mulliken_charge</th></tr><tr><th></th><th>String</th><th>Int64</th><th>Float64</th></tr></thead><tbody><p>5 rows × 3 columns</p><tr><th>1</th><td>dsgdb9nsd_000001</td><td>0</td><td>-0.535689</td></tr><tr><th>2</th><td>dsgdb9nsd_000001</td><td>1</td><td>0.133921</td></tr><tr><th>3</th><td>dsgdb9nsd_000001</td><td>2</td><td>0.133922</td></tr><tr><th>4</th><td>dsgdb9nsd_000001</td><td>3</td><td>0.133923</td></tr><tr><th>5</th><td>dsgdb9nsd_000001</td><td>4</td><td>0.133923</td></tr></tbody></table>"
      ],
      "text/latex": [
       "\\begin{tabular}{r|ccc}\n",
       "\t& molecule\\_name & atom\\_index & mulliken\\_charge\\\\\n",
       "\t\\hline\n",
       "\t& String & Int64 & Float64\\\\\n",
       "\t\\hline\n",
       "\t1 & dsgdb9nsd\\_000001 & 0 & -0.535689 \\\\\n",
       "\t2 & dsgdb9nsd\\_000001 & 1 & 0.133921 \\\\\n",
       "\t3 & dsgdb9nsd\\_000001 & 2 & 0.133922 \\\\\n",
       "\t4 & dsgdb9nsd\\_000001 & 3 & 0.133923 \\\\\n",
       "\t5 & dsgdb9nsd\\_000001 & 4 & 0.133923 \\\\\n",
       "\\end{tabular}\n"
      ],
      "text/plain": [
       "5×3 DataFrame\n",
       "│ Row │ molecule_name    │ atom_index │ mulliken_charge │\n",
       "│     │ \u001b[90mString\u001b[39m           │ \u001b[90mInt64\u001b[39m      │ \u001b[90mFloat64\u001b[39m         │\n",
       "├─────┼──────────────────┼────────────┼─────────────────┤\n",
       "│ 1   │ dsgdb9nsd_000001 │ 0          │ -0.535689       │\n",
       "│ 2   │ dsgdb9nsd_000001 │ 1          │ 0.133921        │\n",
       "│ 3   │ dsgdb9nsd_000001 │ 2          │ 0.133922        │\n",
       "│ 4   │ dsgdb9nsd_000001 │ 3          │ 0.133923        │\n",
       "│ 5   │ dsgdb9nsd_000001 │ 4          │ 0.133923        │"
      ]
     },
     "execution_count": 188,
     "metadata": {},
     "output_type": "execute_result"
    }
   ],
   "source": [
    "println(\"the size of mulliken_charges: $(size(mulliken_charges))\")\n",
    "mulliken_charges[1:5,:]"
   ]
  },
  {
   "cell_type": "code",
   "execution_count": 189,
   "metadata": {},
   "outputs": [],
   "source": [
    "df_4_1 = mergeDF(df_3,mulliken_charges,[(:molecule_name,:molecule_name),(:atom_index_0,:atom_index)],0);"
   ]
  },
  {
   "cell_type": "code",
   "execution_count": 190,
   "metadata": {
    "scrolled": true
   },
   "outputs": [
    {
     "name": "stdout",
     "output_type": "stream",
     "text": [
      "The size of df_4_1 is : (4658147, 18)\n"
     ]
    }
   ],
   "source": [
    "println(\"The size of df_4_1 is : $(size(df_4_1))\")"
   ]
  },
  {
   "cell_type": "code",
   "execution_count": 191,
   "metadata": {},
   "outputs": [],
   "source": [
    "df_4_2 = mergeDF(df_4_1,mulliken_charges,[(:molecule_name,:molecule_name),(:atom_index_1,:atom_index)],1);"
   ]
  },
  {
   "cell_type": "code",
   "execution_count": 192,
   "metadata": {},
   "outputs": [
    {
     "name": "stdout",
     "output_type": "stream",
     "text": [
      "The size of df_4_2 is : (4658147, 19)\n"
     ]
    }
   ],
   "source": [
    "println(\"The size of df_4_2 is : $(size(df_4_2))\")"
   ]
  },
  {
   "cell_type": "code",
   "execution_count": 193,
   "metadata": {},
   "outputs": [
    {
     "data": {
      "text/plain": [
       "19-element Array{Symbol,1}:\n",
       " :id                      \n",
       " :molecule_name           \n",
       " :atom_index_0            \n",
       " :atom_index_1            \n",
       " :type                    \n",
       " :scalar_coupling_constant\n",
       " :atom_0                  \n",
       " :x_0                     \n",
       " :y_0                     \n",
       " :z_0                     \n",
       " :atom_1                  \n",
       " :x_1                     \n",
       " :y_1                     \n",
       " :z_1                     \n",
       " :X_dipole_moments        \n",
       " :Y_dipole_moments        \n",
       " :Z_dipole_moments        \n",
       " :mulliken_charge_0       \n",
       " :mulliken_charge_1       "
      ]
     },
     "execution_count": 193,
     "metadata": {},
     "output_type": "execute_result"
    }
   ],
   "source": [
    "names(df_4_2)"
   ]
  },
  {
   "cell_type": "markdown",
   "metadata": {
    "scrolled": true
   },
   "source": [
    "### df_5 consist of train, structures, dipole_moments, mulliken_charges, potential_energy dataframes"
   ]
  },
  {
   "cell_type": "code",
   "execution_count": 194,
   "metadata": {},
   "outputs": [
    {
     "name": "stdout",
     "output_type": "stream",
     "text": [
      "the size of potential_energy: (85003, 2)\n"
     ]
    },
    {
     "data": {
      "text/html": [
       "<table class=\"data-frame\"><thead><tr><th></th><th>molecule_name</th><th>potential_energy</th></tr><tr><th></th><th>String</th><th>Float64</th></tr></thead><tbody><p>5 rows × 2 columns</p><tr><th>1</th><td>dsgdb9nsd_000001</td><td>-40.5237</td></tr><tr><th>2</th><td>dsgdb9nsd_000002</td><td>-56.5603</td></tr><tr><th>3</th><td>dsgdb9nsd_000003</td><td>-76.4261</td></tr><tr><th>4</th><td>dsgdb9nsd_000005</td><td>-93.4285</td></tr><tr><th>5</th><td>dsgdb9nsd_000007</td><td>-79.8387</td></tr></tbody></table>"
      ],
      "text/latex": [
       "\\begin{tabular}{r|cc}\n",
       "\t& molecule\\_name & potential\\_energy\\\\\n",
       "\t\\hline\n",
       "\t& String & Float64\\\\\n",
       "\t\\hline\n",
       "\t1 & dsgdb9nsd\\_000001 & -40.5237 \\\\\n",
       "\t2 & dsgdb9nsd\\_000002 & -56.5603 \\\\\n",
       "\t3 & dsgdb9nsd\\_000003 & -76.4261 \\\\\n",
       "\t4 & dsgdb9nsd\\_000005 & -93.4285 \\\\\n",
       "\t5 & dsgdb9nsd\\_000007 & -79.8387 \\\\\n",
       "\\end{tabular}\n"
      ],
      "text/plain": [
       "5×2 DataFrame\n",
       "│ Row │ molecule_name    │ potential_energy │\n",
       "│     │ \u001b[90mString\u001b[39m           │ \u001b[90mFloat64\u001b[39m          │\n",
       "├─────┼──────────────────┼──────────────────┤\n",
       "│ 1   │ dsgdb9nsd_000001 │ -40.5237         │\n",
       "│ 2   │ dsgdb9nsd_000002 │ -56.5603         │\n",
       "│ 3   │ dsgdb9nsd_000003 │ -76.4261         │\n",
       "│ 4   │ dsgdb9nsd_000005 │ -93.4285         │\n",
       "│ 5   │ dsgdb9nsd_000007 │ -79.8387         │"
      ]
     },
     "execution_count": 194,
     "metadata": {},
     "output_type": "execute_result"
    }
   ],
   "source": [
    "println(\"the size of potential_energy: $(size(potential_energy))\")\n",
    "potential_energy[1:5,:]"
   ]
  },
  {
   "cell_type": "code",
   "execution_count": 195,
   "metadata": {},
   "outputs": [],
   "source": [
    "df_5 = mergeDF(df_4_2,potential_energy,[(:molecule_name,:molecule_name)]);"
   ]
  },
  {
   "cell_type": "code",
   "execution_count": 196,
   "metadata": {
    "scrolled": true
   },
   "outputs": [
    {
     "name": "stdout",
     "output_type": "stream",
     "text": [
      "The size of df_5 is : (4658147, 20)\n"
     ]
    }
   ],
   "source": [
    "println(\"The size of df_5 is : $(size(df_5))\")"
   ]
  },
  {
   "cell_type": "code",
   "execution_count": 197,
   "metadata": {},
   "outputs": [
    {
     "data": {
      "text/plain": [
       "20-element Array{Symbol,1}:\n",
       " :id                      \n",
       " :molecule_name           \n",
       " :atom_index_0            \n",
       " :atom_index_1            \n",
       " :type                    \n",
       " :scalar_coupling_constant\n",
       " :atom_0                  \n",
       " :x_0                     \n",
       " :y_0                     \n",
       " :z_0                     \n",
       " :atom_1                  \n",
       " :x_1                     \n",
       " :y_1                     \n",
       " :z_1                     \n",
       " :X_dipole_moments        \n",
       " :Y_dipole_moments        \n",
       " :Z_dipole_moments        \n",
       " :mulliken_charge_0       \n",
       " :mulliken_charge_1       \n",
       " :potential_energy        "
      ]
     },
     "execution_count": 197,
     "metadata": {},
     "output_type": "execute_result"
    }
   ],
   "source": [
    "names(df_5)"
   ]
  },
  {
   "cell_type": "markdown",
   "metadata": {},
   "source": [
    "### df_6 consist of train, structures, dipole_moments, mulliken_charges, potential_energy, scalar_coupling_contributions dataframes"
   ]
  },
  {
   "cell_type": "code",
   "execution_count": 198,
   "metadata": {},
   "outputs": [
    {
     "name": "stdout",
     "output_type": "stream",
     "text": [
      "the size of scalar_coupling_contributions: (4658147, 8)\n"
     ]
    },
    {
     "data": {
      "text/html": [
       "<table class=\"data-frame\"><thead><tr><th></th><th>molecule_name</th><th>atom_index_0</th><th>atom_index_1</th><th>type</th><th>fc</th><th>sd</th><th>pso</th></tr><tr><th></th><th>String</th><th>Int64</th><th>Int64</th><th>String</th><th>Float64</th><th>Float64</th><th>Float64</th></tr></thead><tbody><p>5 rows × 8 columns (omitted printing of 1 columns)</p><tr><th>1</th><td>dsgdb9nsd_000001</td><td>1</td><td>0</td><td>1JHC</td><td>83.0224</td><td>0.254579</td><td>1.25862</td></tr><tr><th>2</th><td>dsgdb9nsd_000001</td><td>1</td><td>2</td><td>2JHH</td><td>-11.0347</td><td>0.352978</td><td>2.85839</td></tr><tr><th>3</th><td>dsgdb9nsd_000001</td><td>1</td><td>3</td><td>2JHH</td><td>-11.0325</td><td>0.352944</td><td>2.85852</td></tr><tr><th>4</th><td>dsgdb9nsd_000001</td><td>1</td><td>4</td><td>2JHH</td><td>-11.0319</td><td>0.352934</td><td>2.85855</td></tr><tr><th>5</th><td>dsgdb9nsd_000001</td><td>2</td><td>0</td><td>1JHC</td><td>83.0222</td><td>0.254585</td><td>1.25861</td></tr></tbody></table>"
      ],
      "text/latex": [
       "\\begin{tabular}{r|cccccccc}\n",
       "\t& molecule\\_name & atom\\_index\\_0 & atom\\_index\\_1 & type & fc & sd & pso & \\\\\n",
       "\t\\hline\n",
       "\t& String & Int64 & Int64 & String & Float64 & Float64 & Float64 & \\\\\n",
       "\t\\hline\n",
       "\t1 & dsgdb9nsd\\_000001 & 1 & 0 & 1JHC & 83.0224 & 0.254579 & 1.25862 & $\\dots$ \\\\\n",
       "\t2 & dsgdb9nsd\\_000001 & 1 & 2 & 2JHH & -11.0347 & 0.352978 & 2.85839 & $\\dots$ \\\\\n",
       "\t3 & dsgdb9nsd\\_000001 & 1 & 3 & 2JHH & -11.0325 & 0.352944 & 2.85852 & $\\dots$ \\\\\n",
       "\t4 & dsgdb9nsd\\_000001 & 1 & 4 & 2JHH & -11.0319 & 0.352934 & 2.85855 & $\\dots$ \\\\\n",
       "\t5 & dsgdb9nsd\\_000001 & 2 & 0 & 1JHC & 83.0222 & 0.254585 & 1.25861 & $\\dots$ \\\\\n",
       "\\end{tabular}\n"
      ],
      "text/plain": [
       "5×8 DataFrame. Omitted printing of 3 columns\n",
       "│ Row │ molecule_name    │ atom_index_0 │ atom_index_1 │ type   │ fc       │\n",
       "│     │ \u001b[90mString\u001b[39m           │ \u001b[90mInt64\u001b[39m        │ \u001b[90mInt64\u001b[39m        │ \u001b[90mString\u001b[39m │ \u001b[90mFloat64\u001b[39m  │\n",
       "├─────┼──────────────────┼──────────────┼──────────────┼────────┼──────────┤\n",
       "│ 1   │ dsgdb9nsd_000001 │ 1            │ 0            │ 1JHC   │ 83.0224  │\n",
       "│ 2   │ dsgdb9nsd_000001 │ 1            │ 2            │ 2JHH   │ -11.0347 │\n",
       "│ 3   │ dsgdb9nsd_000001 │ 1            │ 3            │ 2JHH   │ -11.0325 │\n",
       "│ 4   │ dsgdb9nsd_000001 │ 1            │ 4            │ 2JHH   │ -11.0319 │\n",
       "│ 5   │ dsgdb9nsd_000001 │ 2            │ 0            │ 1JHC   │ 83.0222  │"
      ]
     },
     "execution_count": 198,
     "metadata": {},
     "output_type": "execute_result"
    }
   ],
   "source": [
    "println(\"the size of scalar_coupling_contributions: $(size(scalar_coupling_contributions))\")\n",
    "scalar_coupling_contributions[1:5,:]"
   ]
  },
  {
   "cell_type": "code",
   "execution_count": 199,
   "metadata": {},
   "outputs": [
    {
     "data": {
      "text/plain": [
       "8-element Array{Symbol,1}:\n",
       " :molecule_name\n",
       " :atom_index_0 \n",
       " :atom_index_1 \n",
       " :type         \n",
       " :fc           \n",
       " :sd           \n",
       " :pso          \n",
       " :dso          "
      ]
     },
     "execution_count": 199,
     "metadata": {},
     "output_type": "execute_result"
    }
   ],
   "source": [
    "names(scalar_coupling_contributions)"
   ]
  },
  {
   "cell_type": "code",
   "execution_count": 200,
   "metadata": {},
   "outputs": [],
   "source": [
    "df_6 = mergeDF(df_5,scalar_coupling_contributions,[(:molecule_name,:molecule_name),(:atom_index_0,:atom_index_0),(:atom_index_1,:atom_index_1),(:type,:type)]);"
   ]
  },
  {
   "cell_type": "code",
   "execution_count": 201,
   "metadata": {
    "scrolled": true
   },
   "outputs": [
    {
     "name": "stdout",
     "output_type": "stream",
     "text": [
      "The size of df_6 is : (4658147, 24)\n"
     ]
    }
   ],
   "source": [
    "println(\"The size of df_6 is : $(size(df_6))\")"
   ]
  },
  {
   "cell_type": "code",
   "execution_count": 202,
   "metadata": {
    "scrolled": true
   },
   "outputs": [
    {
     "data": {
      "text/plain": [
       "24-element Array{Symbol,1}:\n",
       " :id                      \n",
       " :molecule_name           \n",
       " :atom_index_0            \n",
       " :atom_index_1            \n",
       " :type                    \n",
       " :scalar_coupling_constant\n",
       " :atom_0                  \n",
       " :x_0                     \n",
       " :y_0                     \n",
       " :z_0                     \n",
       " :atom_1                  \n",
       " :x_1                     \n",
       " :y_1                     \n",
       " :z_1                     \n",
       " :X_dipole_moments        \n",
       " :Y_dipole_moments        \n",
       " :Z_dipole_moments        \n",
       " :mulliken_charge_0       \n",
       " :mulliken_charge_1       \n",
       " :potential_energy        \n",
       " :fc                      \n",
       " :sd                      \n",
       " :pso                     \n",
       " :dso                     "
      ]
     },
     "execution_count": 202,
     "metadata": {},
     "output_type": "execute_result"
    }
   ],
   "source": [
    "names(df_6)"
   ]
  },
  {
   "cell_type": "markdown",
   "metadata": {},
   "source": [
    "### df_7 consist of train, structures, dipole_moments, mulliken_charges, potential_energy, scalar_coupling_contributions, magnetic_shielding_tensors dataframes"
   ]
  },
  {
   "cell_type": "code",
   "execution_count": 203,
   "metadata": {
    "scrolled": false
   },
   "outputs": [
    {
     "name": "stdout",
     "output_type": "stream",
     "text": [
      "the size of magnetic_shielding_tensors: (1533537, 11)\n"
     ]
    },
    {
     "data": {
      "text/html": [
       "<table class=\"data-frame\"><thead><tr><th></th><th>molecule_name</th><th>atom_index</th><th>XX</th><th>YX</th><th>ZX</th><th>XY</th><th>YY</th><th>ZY</th></tr><tr><th></th><th>String</th><th>Int64</th><th>Float64</th><th>Float64</th><th>Float64</th><th>Float64</th><th>Float64</th><th>Float64</th></tr></thead><tbody><p>5 rows × 11 columns (omitted printing of 3 columns)</p><tr><th>1</th><td>dsgdb9nsd_000001</td><td>0</td><td>195.315</td><td>0.0</td><td>-0.0001</td><td>0.0</td><td>195.317</td><td>0.0007</td></tr><tr><th>2</th><td>dsgdb9nsd_000001</td><td>1</td><td>31.341</td><td>-1.2317</td><td>4.0544</td><td>-1.2317</td><td>28.9546</td><td>-1.7173</td></tr><tr><th>3</th><td>dsgdb9nsd_000001</td><td>2</td><td>31.5814</td><td>1.2173</td><td>-4.1474</td><td>1.2173</td><td>28.9036</td><td>-1.6036</td></tr><tr><th>4</th><td>dsgdb9nsd_000001</td><td>3</td><td>31.5172</td><td>4.1086</td><td>1.2723</td><td>4.1088</td><td>33.9068</td><td>1.695</td></tr><tr><th>5</th><td>dsgdb9nsd_000001</td><td>4</td><td>31.4029</td><td>-4.0942</td><td>-1.1793</td><td>-4.0944</td><td>34.0776</td><td>1.6259</td></tr></tbody></table>"
      ],
      "text/latex": [
       "\\begin{tabular}{r|ccccccccc}\n",
       "\t& molecule\\_name & atom\\_index & XX & YX & ZX & XY & YY & ZY & \\\\\n",
       "\t\\hline\n",
       "\t& String & Int64 & Float64 & Float64 & Float64 & Float64 & Float64 & Float64 & \\\\\n",
       "\t\\hline\n",
       "\t1 & dsgdb9nsd\\_000001 & 0 & 195.315 & 0.0 & -0.0001 & 0.0 & 195.317 & 0.0007 & $\\dots$ \\\\\n",
       "\t2 & dsgdb9nsd\\_000001 & 1 & 31.341 & -1.2317 & 4.0544 & -1.2317 & 28.9546 & -1.7173 & $\\dots$ \\\\\n",
       "\t3 & dsgdb9nsd\\_000001 & 2 & 31.5814 & 1.2173 & -4.1474 & 1.2173 & 28.9036 & -1.6036 & $\\dots$ \\\\\n",
       "\t4 & dsgdb9nsd\\_000001 & 3 & 31.5172 & 4.1086 & 1.2723 & 4.1088 & 33.9068 & 1.695 & $\\dots$ \\\\\n",
       "\t5 & dsgdb9nsd\\_000001 & 4 & 31.4029 & -4.0942 & -1.1793 & -4.0944 & 34.0776 & 1.6259 & $\\dots$ \\\\\n",
       "\\end{tabular}\n"
      ],
      "text/plain": [
       "5×11 DataFrame. Omitted printing of 5 columns\n",
       "│ Row │ molecule_name    │ atom_index │ XX      │ YX      │ ZX      │ XY      │\n",
       "│     │ \u001b[90mString\u001b[39m           │ \u001b[90mInt64\u001b[39m      │ \u001b[90mFloat64\u001b[39m │ \u001b[90mFloat64\u001b[39m │ \u001b[90mFloat64\u001b[39m │ \u001b[90mFloat64\u001b[39m │\n",
       "├─────┼──────────────────┼────────────┼─────────┼─────────┼─────────┼─────────┤\n",
       "│ 1   │ dsgdb9nsd_000001 │ 0          │ 195.315 │ 0.0     │ -0.0001 │ 0.0     │\n",
       "│ 2   │ dsgdb9nsd_000001 │ 1          │ 31.341  │ -1.2317 │ 4.0544  │ -1.2317 │\n",
       "│ 3   │ dsgdb9nsd_000001 │ 2          │ 31.5814 │ 1.2173  │ -4.1474 │ 1.2173  │\n",
       "│ 4   │ dsgdb9nsd_000001 │ 3          │ 31.5172 │ 4.1086  │ 1.2723  │ 4.1088  │\n",
       "│ 5   │ dsgdb9nsd_000001 │ 4          │ 31.4029 │ -4.0942 │ -1.1793 │ -4.0944 │"
      ]
     },
     "execution_count": 203,
     "metadata": {},
     "output_type": "execute_result"
    }
   ],
   "source": [
    "println(\"the size of magnetic_shielding_tensors: $(size(magnetic_shielding_tensors))\")\n",
    "magnetic_shielding_tensors[1:5,:]"
   ]
  },
  {
   "cell_type": "code",
   "execution_count": 204,
   "metadata": {},
   "outputs": [
    {
     "data": {
      "text/plain": [
       "11-element Array{Symbol,1}:\n",
       " :molecule_name\n",
       " :atom_index   \n",
       " :XX           \n",
       " :YX           \n",
       " :ZX           \n",
       " :XY           \n",
       " :YY           \n",
       " :ZY           \n",
       " :XZ           \n",
       " :YZ           \n",
       " :ZZ           "
      ]
     },
     "execution_count": 204,
     "metadata": {},
     "output_type": "execute_result"
    }
   ],
   "source": [
    "names(magnetic_shielding_tensors)"
   ]
  },
  {
   "cell_type": "code",
   "execution_count": 205,
   "metadata": {},
   "outputs": [],
   "source": [
    "df_7_1 = mergeDF(df_6,magnetic_shielding_tensors,[(:molecule_name,:molecule_name),(:atom_index_0,:atom_index)], 0);"
   ]
  },
  {
   "cell_type": "code",
   "execution_count": 206,
   "metadata": {},
   "outputs": [],
   "source": [
    "df_7_2 = mergeDF(df_7_1,magnetic_shielding_tensors,[(:molecule_name,:molecule_name),(:atom_index_1,:atom_index)], 1);"
   ]
  },
  {
   "cell_type": "code",
   "execution_count": 207,
   "metadata": {},
   "outputs": [
    {
     "name": "stdout",
     "output_type": "stream",
     "text": [
      "The size of df_7_2 is : (4658147, 42)\n"
     ]
    }
   ],
   "source": [
    "println(\"The size of df_7_2 is : $(size(df_7_2))\")"
   ]
  },
  {
   "cell_type": "markdown",
   "metadata": {},
   "source": [
    "### 3. df_7_2 is the complete dataframe that contain all the papameters we could add."
   ]
  },
  {
   "cell_type": "code",
   "execution_count": 208,
   "metadata": {},
   "outputs": [
    {
     "data": {
      "text/plain": [
       "4658147-element Array{Float64,1}:\n",
       "  84.8076  \n",
       " -11.257   \n",
       " -11.2548  \n",
       " -11.2543  \n",
       "  84.8074  \n",
       " -11.2541  \n",
       " -11.2548  \n",
       "  84.8093  \n",
       " -11.2543  \n",
       "  84.8095  \n",
       "  32.6889  \n",
       " -11.1866  \n",
       " -11.1757  \n",
       "   ⋮       \n",
       "   1.02549 \n",
       "  99.6572  \n",
       "   9.11973 \n",
       "   0.789559\n",
       "  -0.006537\n",
       "   1.94438 \n",
       "   0.861412\n",
       "   3.54345 \n",
       "   0.568997\n",
       "   1.17337 \n",
       "   4.76201 \n",
       " 117.934   "
      ]
     },
     "execution_count": 208,
     "metadata": {},
     "output_type": "execute_result"
    }
   ],
   "source": [
    "Y_complete = df_7_2[:,:scalar_coupling_constant] # target value"
   ]
  },
  {
   "cell_type": "code",
   "execution_count": 209,
   "metadata": {},
   "outputs": [
    {
     "data": {
      "text/plain": [
       "1×4658147 Adjoint{Float64,Array{Float64,1}}:\n",
       " 84.8076  -11.257  -11.2548  -11.2543  …  0.568997  1.17337  4.76201  117.934"
      ]
     },
     "execution_count": 209,
     "metadata": {},
     "output_type": "execute_result"
    }
   ],
   "source": [
    "y_complete = Y_complete'"
   ]
  },
  {
   "cell_type": "markdown",
   "metadata": {},
   "source": [
    "### using select method to select the columns in df_7_2 to create the training data X"
   ]
  },
  {
   "cell_type": "code",
   "execution_count": 210,
   "metadata": {},
   "outputs": [
    {
     "name": "stdout",
     "output_type": "stream",
     "text": [
      "There are 85003 unique molecule names in the df_7_2\n"
     ]
    }
   ],
   "source": [
    "println(\"There are $(length(unique(df_7_2[:,:molecule_name]))) unique molecule names in the df_7_2\")"
   ]
  },
  {
   "cell_type": "markdown",
   "metadata": {},
   "source": [
    "#### Because there are 85003 unique molecule names in the df_7_2, then 85003 rows will be added to the training data if we use one hot batch. Then the overall matrix will be bigger than 85000×4658147. My omputer can't handle such big matrix. Thus I delete this column in X "
   ]
  },
  {
   "cell_type": "code",
   "execution_count": 213,
   "metadata": {},
   "outputs": [
    {
     "data": {
      "text/plain": [
       "3-element Array{Symbol,1}:\n",
       " :id                      \n",
       " :molecule_name           \n",
       " :scalar_coupling_constant"
      ]
     },
     "execution_count": 213,
     "metadata": {},
     "output_type": "execute_result"
    }
   ],
   "source": [
    "delete_columns = [:id,:molecule_name,:scalar_coupling_constant]"
   ]
  },
  {
   "cell_type": "code",
   "execution_count": 214,
   "metadata": {},
   "outputs": [
    {
     "data": {
      "text/plain": [
       "5-element Array{Any,1}:\n",
       " :atom_index_0\n",
       " :atom_index_1\n",
       " :type        \n",
       " :atom_0      \n",
       " :atom_1      "
      ]
     },
     "execution_count": 214,
     "metadata": {},
     "output_type": "execute_result"
    }
   ],
   "source": [
    "columns_oneHot "
   ]
  },
  {
   "cell_type": "code",
   "execution_count": 215,
   "metadata": {},
   "outputs": [
    {
     "data": {
      "text/html": [
       "<table class=\"data-frame\"><thead><tr><th></th><th>atom_index_0</th><th>atom_index_1</th><th>type</th><th>atom_0</th><th>x_0</th><th>y_0</th><th>z_0</th></tr><tr><th></th><th>Int64</th><th>Int64</th><th>String</th><th>String</th><th>Float64</th><th>Float64</th><th>Float64</th></tr></thead><tbody><p>4,658,147 rows × 39 columns (omitted printing of 32 columns)</p><tr><th>1</th><td>1</td><td>0</td><td>1JHC</td><td>H</td><td>0.00215042</td><td>-0.00603132</td><td>0.00197612</td></tr><tr><th>2</th><td>1</td><td>2</td><td>2JHH</td><td>H</td><td>0.00215042</td><td>-0.00603132</td><td>0.00197612</td></tr><tr><th>3</th><td>1</td><td>3</td><td>2JHH</td><td>H</td><td>0.00215042</td><td>-0.00603132</td><td>0.00197612</td></tr><tr><th>4</th><td>1</td><td>4</td><td>2JHH</td><td>H</td><td>0.00215042</td><td>-0.00603132</td><td>0.00197612</td></tr><tr><th>5</th><td>2</td><td>0</td><td>1JHC</td><td>H</td><td>1.01173</td><td>1.46375</td><td>0.000276575</td></tr><tr><th>6</th><td>2</td><td>3</td><td>2JHH</td><td>H</td><td>1.01173</td><td>1.46375</td><td>0.000276575</td></tr><tr><th>7</th><td>2</td><td>4</td><td>2JHH</td><td>H</td><td>1.01173</td><td>1.46375</td><td>0.000276575</td></tr><tr><th>8</th><td>3</td><td>0</td><td>1JHC</td><td>H</td><td>-0.540815</td><td>1.44753</td><td>-0.876644</td></tr><tr><th>9</th><td>3</td><td>4</td><td>2JHH</td><td>H</td><td>-0.540815</td><td>1.44753</td><td>-0.876644</td></tr><tr><th>10</th><td>4</td><td>0</td><td>1JHC</td><td>H</td><td>-0.523814</td><td>1.43793</td><td>0.906397</td></tr><tr><th>11</th><td>1</td><td>0</td><td>1JHN</td><td>H</td><td>0.0172575</td><td>0.0125452</td><td>-0.0273772</td></tr><tr><th>12</th><td>1</td><td>2</td><td>2JHH</td><td>H</td><td>0.0172575</td><td>0.0125452</td><td>-0.0273772</td></tr><tr><th>13</th><td>1</td><td>3</td><td>2JHH</td><td>H</td><td>0.0172575</td><td>0.0125452</td><td>-0.0273772</td></tr><tr><th>14</th><td>2</td><td>0</td><td>1JHN</td><td>H</td><td>0.915789</td><td>1.35875</td><td>-0.0287578</td></tr><tr><th>15</th><td>2</td><td>3</td><td>2JHH</td><td>H</td><td>0.915789</td><td>1.35875</td><td>-0.0287578</td></tr><tr><th>16</th><td>3</td><td>0</td><td>1JHN</td><td>H</td><td>-0.520278</td><td>1.34353</td><td>-0.775543</td></tr><tr><th>17</th><td>1</td><td>2</td><td>2JHH</td><td>H</td><td>0.0647665</td><td>0.0205722</td><td>0.00153463</td></tr><tr><th>18</th><td>2</td><td>0</td><td>1JHC</td><td>H</td><td>-0.0278027</td><td>2.19895</td><td>0.0141538</td></tr><tr><th>19</th><td>2</td><td>1</td><td>2JHN</td><td>H</td><td>-0.0278027</td><td>2.19895</td><td>0.0141538</td></tr><tr><th>20</th><td>2</td><td>0</td><td>1JHC</td><td>H</td><td>0.994873</td><td>1.93974</td><td>0.0029412</td></tr><tr><th>21</th><td>2</td><td>1</td><td>2JHC</td><td>H</td><td>0.994873</td><td>1.93974</td><td>0.0029412</td></tr><tr><th>22</th><td>2</td><td>3</td><td>2JHH</td><td>H</td><td>0.994873</td><td>1.93974</td><td>0.0029412</td></tr><tr><th>23</th><td>2</td><td>4</td><td>2JHH</td><td>H</td><td>0.994873</td><td>1.93974</td><td>0.0029412</td></tr><tr><th>24</th><td>2</td><td>5</td><td>3JHH</td><td>H</td><td>0.994873</td><td>1.93974</td><td>0.0029412</td></tr><tr><th>25</th><td>2</td><td>6</td><td>3JHH</td><td>H</td><td>0.994873</td><td>1.93974</td><td>0.0029412</td></tr><tr><th>26</th><td>2</td><td>7</td><td>3JHH</td><td>H</td><td>0.994873</td><td>1.93974</td><td>0.0029412</td></tr><tr><th>27</th><td>3</td><td>0</td><td>1JHC</td><td>H</td><td>-0.542076</td><td>1.92361</td><td>-0.865117</td></tr><tr><th>28</th><td>3</td><td>1</td><td>2JHC</td><td>H</td><td>-0.542076</td><td>1.92361</td><td>-0.865117</td></tr><tr><th>29</th><td>3</td><td>4</td><td>2JHH</td><td>H</td><td>-0.542076</td><td>1.92361</td><td>-0.865117</td></tr><tr><th>30</th><td>3</td><td>5</td><td>3JHH</td><td>H</td><td>-0.542076</td><td>1.92361</td><td>-0.865117</td></tr><tr><th>&vellip;</th><td>&vellip;</td><td>&vellip;</td><td>&vellip;</td><td>&vellip;</td><td>&vellip;</td><td>&vellip;</td><td>&vellip;</td></tr></tbody></table>"
      ],
      "text/latex": [
       "\\begin{tabular}{r|cccccccc}\n",
       "\t& atom\\_index\\_0 & atom\\_index\\_1 & type & atom\\_0 & x\\_0 & y\\_0 & z\\_0 & \\\\\n",
       "\t\\hline\n",
       "\t& Int64 & Int64 & String & String & Float64 & Float64 & Float64 & \\\\\n",
       "\t\\hline\n",
       "\t1 & 1 & 0 & 1JHC & H & 0.00215042 & -0.00603132 & 0.00197612 & $\\dots$ \\\\\n",
       "\t2 & 1 & 2 & 2JHH & H & 0.00215042 & -0.00603132 & 0.00197612 & $\\dots$ \\\\\n",
       "\t3 & 1 & 3 & 2JHH & H & 0.00215042 & -0.00603132 & 0.00197612 & $\\dots$ \\\\\n",
       "\t4 & 1 & 4 & 2JHH & H & 0.00215042 & -0.00603132 & 0.00197612 & $\\dots$ \\\\\n",
       "\t5 & 2 & 0 & 1JHC & H & 1.01173 & 1.46375 & 0.000276575 & $\\dots$ \\\\\n",
       "\t6 & 2 & 3 & 2JHH & H & 1.01173 & 1.46375 & 0.000276575 & $\\dots$ \\\\\n",
       "\t7 & 2 & 4 & 2JHH & H & 1.01173 & 1.46375 & 0.000276575 & $\\dots$ \\\\\n",
       "\t8 & 3 & 0 & 1JHC & H & -0.540815 & 1.44753 & -0.876644 & $\\dots$ \\\\\n",
       "\t9 & 3 & 4 & 2JHH & H & -0.540815 & 1.44753 & -0.876644 & $\\dots$ \\\\\n",
       "\t10 & 4 & 0 & 1JHC & H & -0.523814 & 1.43793 & 0.906397 & $\\dots$ \\\\\n",
       "\t11 & 1 & 0 & 1JHN & H & 0.0172575 & 0.0125452 & -0.0273772 & $\\dots$ \\\\\n",
       "\t12 & 1 & 2 & 2JHH & H & 0.0172575 & 0.0125452 & -0.0273772 & $\\dots$ \\\\\n",
       "\t13 & 1 & 3 & 2JHH & H & 0.0172575 & 0.0125452 & -0.0273772 & $\\dots$ \\\\\n",
       "\t14 & 2 & 0 & 1JHN & H & 0.915789 & 1.35875 & -0.0287578 & $\\dots$ \\\\\n",
       "\t15 & 2 & 3 & 2JHH & H & 0.915789 & 1.35875 & -0.0287578 & $\\dots$ \\\\\n",
       "\t16 & 3 & 0 & 1JHN & H & -0.520278 & 1.34353 & -0.775543 & $\\dots$ \\\\\n",
       "\t17 & 1 & 2 & 2JHH & H & 0.0647665 & 0.0205722 & 0.00153463 & $\\dots$ \\\\\n",
       "\t18 & 2 & 0 & 1JHC & H & -0.0278027 & 2.19895 & 0.0141538 & $\\dots$ \\\\\n",
       "\t19 & 2 & 1 & 2JHN & H & -0.0278027 & 2.19895 & 0.0141538 & $\\dots$ \\\\\n",
       "\t20 & 2 & 0 & 1JHC & H & 0.994873 & 1.93974 & 0.0029412 & $\\dots$ \\\\\n",
       "\t21 & 2 & 1 & 2JHC & H & 0.994873 & 1.93974 & 0.0029412 & $\\dots$ \\\\\n",
       "\t22 & 2 & 3 & 2JHH & H & 0.994873 & 1.93974 & 0.0029412 & $\\dots$ \\\\\n",
       "\t23 & 2 & 4 & 2JHH & H & 0.994873 & 1.93974 & 0.0029412 & $\\dots$ \\\\\n",
       "\t24 & 2 & 5 & 3JHH & H & 0.994873 & 1.93974 & 0.0029412 & $\\dots$ \\\\\n",
       "\t25 & 2 & 6 & 3JHH & H & 0.994873 & 1.93974 & 0.0029412 & $\\dots$ \\\\\n",
       "\t26 & 2 & 7 & 3JHH & H & 0.994873 & 1.93974 & 0.0029412 & $\\dots$ \\\\\n",
       "\t27 & 3 & 0 & 1JHC & H & -0.542076 & 1.92361 & -0.865117 & $\\dots$ \\\\\n",
       "\t28 & 3 & 1 & 2JHC & H & -0.542076 & 1.92361 & -0.865117 & $\\dots$ \\\\\n",
       "\t29 & 3 & 4 & 2JHH & H & -0.542076 & 1.92361 & -0.865117 & $\\dots$ \\\\\n",
       "\t30 & 3 & 5 & 3JHH & H & -0.542076 & 1.92361 & -0.865117 & $\\dots$ \\\\\n",
       "\t$\\dots$ & $\\dots$ & $\\dots$ & $\\dots$ & $\\dots$ & $\\dots$ & $\\dots$ & $\\dots$ &  \\\\\n",
       "\\end{tabular}\n"
      ],
      "text/plain": [
       "4658147×39 DataFrame. Omitted printing of 34 columns\n",
       "│ Row     │ atom_index_0 │ atom_index_1 │ type   │ atom_0 │ x_0        │\n",
       "│         │ \u001b[90mInt64\u001b[39m        │ \u001b[90mInt64\u001b[39m        │ \u001b[90mString\u001b[39m │ \u001b[90mString\u001b[39m │ \u001b[90mFloat64\u001b[39m    │\n",
       "├─────────┼──────────────┼──────────────┼────────┼────────┼────────────┤\n",
       "│ 1       │ 1            │ 0            │ 1JHC   │ H      │ 0.00215042 │\n",
       "│ 2       │ 1            │ 2            │ 2JHH   │ H      │ 0.00215042 │\n",
       "│ 3       │ 1            │ 3            │ 2JHH   │ H      │ 0.00215042 │\n",
       "│ 4       │ 1            │ 4            │ 2JHH   │ H      │ 0.00215042 │\n",
       "│ 5       │ 2            │ 0            │ 1JHC   │ H      │ 1.01173    │\n",
       "│ 6       │ 2            │ 3            │ 2JHH   │ H      │ 1.01173    │\n",
       "│ 7       │ 2            │ 4            │ 2JHH   │ H      │ 1.01173    │\n",
       "│ 8       │ 3            │ 0            │ 1JHC   │ H      │ -0.540815  │\n",
       "│ 9       │ 3            │ 4            │ 2JHH   │ H      │ -0.540815  │\n",
       "│ 10      │ 4            │ 0            │ 1JHC   │ H      │ -0.523814  │\n",
       "⋮\n",
       "│ 4658137 │ 16           │ 7            │ 1JHC   │ H      │ -0.0845308 │\n",
       "│ 4658138 │ 16           │ 8            │ 2JHC   │ H      │ -0.0845308 │\n",
       "│ 4658139 │ 16           │ 17           │ 3JHH   │ H      │ -0.0845308 │\n",
       "│ 4658140 │ 17           │ 1            │ 3JHN   │ H      │ 1.12655    │\n",
       "│ 4658141 │ 17           │ 2            │ 3JHC   │ H      │ 1.12655    │\n",
       "│ 4658142 │ 17           │ 3            │ 2JHC   │ H      │ 1.12655    │\n",
       "│ 4658143 │ 17           │ 4            │ 2JHC   │ H      │ 1.12655    │\n",
       "│ 4658144 │ 17           │ 5            │ 3JHC   │ H      │ 1.12655    │\n",
       "│ 4658145 │ 17           │ 6            │ 3JHC   │ H      │ 1.12655    │\n",
       "│ 4658146 │ 17           │ 7            │ 2JHC   │ H      │ 1.12655    │\n",
       "│ 4658147 │ 17           │ 8            │ 1JHC   │ H      │ 1.12655    │"
      ]
     },
     "execution_count": 215,
     "metadata": {},
     "output_type": "execute_result"
    }
   ],
   "source": [
    "X_complete = select(df_7_2,Not(delete_columns))"
   ]
  },
  {
   "cell_type": "markdown",
   "metadata": {},
   "source": [
    "## make onehot and delete the associated columns, and change the dataframe to matrix, vcat the hotlized columns. the output is a matrix"
   ]
  },
  {
   "cell_type": "markdown",
   "metadata": {},
   "source": [
    "### we will create one hot bach based on the following columns"
   ]
  },
  {
   "cell_type": "code",
   "execution_count": 144,
   "metadata": {},
   "outputs": [
    {
     "data": {
      "text/plain": [
       "5-element Array{Any,1}:\n",
       " :atom_index_0\n",
       " :atom_index_1\n",
       " :type        \n",
       " :atom_0      \n",
       " :atom_1      "
      ]
     },
     "execution_count": 144,
     "metadata": {},
     "output_type": "execute_result"
    }
   ],
   "source": [
    "columns_oneHot"
   ]
  },
  {
   "cell_type": "code",
   "execution_count": 218,
   "metadata": {},
   "outputs": [
    {
     "name": "stdout",
     "output_type": "stream",
     "text": [
      "  0.141376 seconds (28 allocations: 106.619 MiB, 24.32% gc time)\n",
      "elapsed time (ns): 141376228\n",
      "gc time (ns):      34381479\n",
      "bytes allocated:   111798288\n",
      "pool allocs:       25\n",
      "malloc() calls:    3\n",
      "GC pauses:         3\n",
      "full collections:  1\n"
     ]
    },
    {
     "data": {
      "text/plain": [
       "29×4658147 Flux.OneHotMatrix{Array{Flux.OneHotVector,1}}:\n",
       " 1  1  1  1  0  0  0  0  0  0  1  1  1  …  0  0  0  0  0  0  0  0  0  0  0  0\n",
       " 0  0  0  0  1  1  1  0  0  0  0  0  0     0  0  0  0  0  0  0  0  0  0  0  0\n",
       " 0  0  0  0  0  0  0  1  1  0  0  0  0     0  0  0  0  0  0  0  0  0  0  0  0\n",
       " 0  0  0  0  0  0  0  0  0  1  0  0  0     0  0  0  0  0  0  0  0  0  0  0  0\n",
       " 0  0  0  0  0  0  0  0  0  0  0  0  0     0  0  0  0  0  0  0  0  0  0  0  0\n",
       " 0  0  0  0  0  0  0  0  0  0  0  0  0  …  0  0  0  0  0  0  0  0  0  0  0  0\n",
       " 0  0  0  0  0  0  0  0  0  0  0  0  0     0  0  0  0  0  0  0  0  0  0  0  0\n",
       " 0  0  0  0  0  0  0  0  0  0  0  0  0     0  0  0  0  0  0  0  0  0  0  0  0\n",
       " 0  0  0  0  0  0  0  0  0  0  0  0  0     0  0  0  0  0  0  0  0  0  0  0  0\n",
       " 0  0  0  0  0  0  0  0  0  0  0  0  0     0  0  0  0  0  0  0  0  0  0  0  0\n",
       " 0  0  0  0  0  0  0  0  0  0  0  0  0  …  0  0  0  0  0  0  0  0  0  0  0  0\n",
       " 0  0  0  0  0  0  0  0  0  0  0  0  0     0  0  0  0  0  0  0  0  0  0  0  0\n",
       " 0  0  0  0  0  0  0  0  0  0  0  0  0     0  0  0  0  0  0  0  0  0  0  0  0\n",
       " ⋮              ⋮              ⋮        ⋱  ⋮              ⋮              ⋮   \n",
       " 0  0  0  0  0  0  0  0  0  0  0  0  0     0  0  0  0  0  0  0  0  0  0  0  0\n",
       " 0  0  0  0  0  0  0  0  0  0  0  0  0     0  0  0  0  0  0  0  0  0  0  0  0\n",
       " 0  0  0  0  0  0  0  0  0  0  0  0  0     0  0  0  0  0  0  0  0  0  0  0  0\n",
       " 0  0  0  0  0  0  0  0  0  0  0  0  0  …  0  0  0  0  0  0  0  0  0  0  0  0\n",
       " 0  0  0  0  0  0  0  0  0  0  0  0  0     0  0  0  0  0  0  0  0  0  0  0  0\n",
       " 0  0  0  0  0  0  0  0  0  0  0  0  0     0  0  0  0  0  0  0  0  0  0  0  0\n",
       " 0  0  0  0  0  0  0  0  0  0  0  0  0     0  0  0  0  0  0  0  0  0  0  0  0\n",
       " 0  0  0  0  0  0  0  0  0  0  0  0  0     0  0  0  0  0  0  0  0  0  0  0  0\n",
       " 0  0  0  0  0  0  0  0  0  0  0  0  0  …  0  0  0  0  0  0  0  0  0  0  0  0\n",
       " 0  0  0  0  0  0  0  0  0  0  0  0  0     0  0  0  0  0  0  0  0  0  0  0  0\n",
       " 0  0  0  0  0  0  0  0  0  0  0  0  0     0  0  0  0  0  0  0  0  0  0  0  0\n",
       " 0  0  0  0  0  0  0  0  0  0  0  0  0     0  0  0  0  0  0  0  0  0  0  0  0"
      ]
     },
     "execution_count": 218,
     "metadata": {},
     "output_type": "execute_result"
    }
   ],
   "source": [
    "@timev hot2 = hotlize(X_complete,columns_oneHot[1])"
   ]
  },
  {
   "cell_type": "code",
   "execution_count": 219,
   "metadata": {},
   "outputs": [],
   "source": [
    "for i in columns_oneHot[2:end]\n",
    "    hot2 = vcat(hot2,hotlize(X_complete,i))\n",
    "end"
   ]
  },
  {
   "cell_type": "code",
   "execution_count": 308,
   "metadata": {},
   "outputs": [
    {
     "data": {
      "text/plain": [
       "70×4658147 Array{Bool,2}:\n",
       " 1  1  1  1  0  0  0  0  0  0  1  1  1  …  0  0  0  0  0  0  0  0  0  0  0  0\n",
       " 0  0  0  0  1  1  1  0  0  0  0  0  0     0  0  0  0  0  0  0  0  0  0  0  0\n",
       " 0  0  0  0  0  0  0  1  1  0  0  0  0     0  0  0  0  0  0  0  0  0  0  0  0\n",
       " 0  0  0  0  0  0  0  0  0  1  0  0  0     0  0  0  0  0  0  0  0  0  0  0  0\n",
       " 0  0  0  0  0  0  0  0  0  0  0  0  0     0  0  0  0  0  0  0  0  0  0  0  0\n",
       " 0  0  0  0  0  0  0  0  0  0  0  0  0  …  0  0  0  0  0  0  0  0  0  0  0  0\n",
       " 0  0  0  0  0  0  0  0  0  0  0  0  0     0  0  0  0  0  0  0  0  0  0  0  0\n",
       " 0  0  0  0  0  0  0  0  0  0  0  0  0     0  0  0  0  0  0  0  0  0  0  0  0\n",
       " 0  0  0  0  0  0  0  0  0  0  0  0  0     0  0  0  0  0  0  0  0  0  0  0  0\n",
       " 0  0  0  0  0  0  0  0  0  0  0  0  0     0  0  0  0  0  0  0  0  0  0  0  0\n",
       " 0  0  0  0  0  0  0  0  0  0  0  0  0  …  0  0  0  0  0  0  0  0  0  0  0  0\n",
       " 0  0  0  0  0  0  0  0  0  0  0  0  0     0  0  0  0  0  0  0  0  0  0  0  0\n",
       " 0  0  0  0  0  0  0  0  0  0  0  0  0     0  0  0  0  0  0  0  0  0  0  0  0\n",
       " ⋮              ⋮              ⋮        ⋱  ⋮              ⋮              ⋮   \n",
       " 1  0  0  0  1  0  0  1  0  1  0  0  0     0  1  0  0  0  0  0  0  0  0  0  1\n",
       " 0  1  1  1  0  1  1  0  1  0  0  1  1     0  0  0  0  0  0  0  0  0  0  0  0\n",
       " 0  0  0  0  0  0  0  0  0  0  1  0  0  …  0  0  0  0  0  0  0  0  0  0  0  0\n",
       " 0  0  0  0  0  0  0  0  0  0  0  0  0     0  0  0  0  0  0  0  0  0  0  0  0\n",
       " 0  0  0  0  0  0  0  0  0  0  0  0  0     1  0  1  0  0  0  1  1  0  0  1  0\n",
       " 0  0  0  0  0  0  0  0  0  0  0  0  0     0  0  0  1  0  0  0  0  0  0  0  0\n",
       " 0  0  0  0  0  0  0  0  0  0  0  0  0     0  0  0  0  0  1  0  0  1  1  0  0\n",
       " 0  0  0  0  0  0  0  0  0  0  0  0  0  …  0  0  0  0  1  0  0  0  0  0  0  0\n",
       " 1  1  1  1  1  1  1  1  1  1  1  1  1     1  1  1  1  1  1  1  1  1  1  1  1\n",
       " 1  0  0  0  1  0  0  1  0  1  0  0  0     1  1  1  0  0  1  1  1  1  1  1  1\n",
       " 0  1  1  1  0  1  1  0  1  0  0  1  1     0  0  0  1  0  0  0  0  0  0  0  0\n",
       " 0  0  0  0  0  0  0  0  0  0  1  0  0     0  0  0  0  1  0  0  0  0  0  0  0"
      ]
     },
     "execution_count": 308,
     "metadata": {},
     "output_type": "execute_result"
    }
   ],
   "source": [
    "hot2"
   ]
  },
  {
   "cell_type": "markdown",
   "metadata": {},
   "source": [
    "### delete the columns that have been hotlized in X_complete, and get the X_complete_remain(X_cr for short)"
   ]
  },
  {
   "cell_type": "code",
   "execution_count": 221,
   "metadata": {},
   "outputs": [
    {
     "data": {
      "text/html": [
       "<table class=\"data-frame\"><thead><tr><th></th><th>x_0</th><th>y_0</th><th>z_0</th><th>x_1</th><th>y_1</th><th>z_1</th><th>X_dipole_moments</th></tr><tr><th></th><th>Float64</th><th>Float64</th><th>Float64</th><th>Float64</th><th>Float64</th><th>Float64</th><th>Float64</th></tr></thead><tbody><p>4,658,147 rows × 34 columns (omitted printing of 27 columns)</p><tr><th>1</th><td>0.00215042</td><td>-0.00603132</td><td>0.00197612</td><td>-0.0126981</td><td>1.0858</td><td>0.008001</td><td>0.0</td></tr><tr><th>2</th><td>0.00215042</td><td>-0.00603132</td><td>0.00197612</td><td>1.01173</td><td>1.46375</td><td>0.000276575</td><td>0.0</td></tr><tr><th>3</th><td>0.00215042</td><td>-0.00603132</td><td>0.00197612</td><td>-0.540815</td><td>1.44753</td><td>-0.876644</td><td>0.0</td></tr><tr><th>4</th><td>0.00215042</td><td>-0.00603132</td><td>0.00197612</td><td>-0.523814</td><td>1.43793</td><td>0.906397</td><td>0.0</td></tr><tr><th>5</th><td>1.01173</td><td>1.46375</td><td>0.000276575</td><td>-0.0126981</td><td>1.0858</td><td>0.008001</td><td>0.0</td></tr><tr><th>6</th><td>1.01173</td><td>1.46375</td><td>0.000276575</td><td>-0.540815</td><td>1.44753</td><td>-0.876644</td><td>0.0</td></tr><tr><th>7</th><td>1.01173</td><td>1.46375</td><td>0.000276575</td><td>-0.523814</td><td>1.43793</td><td>0.906397</td><td>0.0</td></tr><tr><th>8</th><td>-0.540815</td><td>1.44753</td><td>-0.876644</td><td>-0.0126981</td><td>1.0858</td><td>0.008001</td><td>0.0</td></tr><tr><th>9</th><td>-0.540815</td><td>1.44753</td><td>-0.876644</td><td>-0.523814</td><td>1.43793</td><td>0.906397</td><td>0.0</td></tr><tr><th>10</th><td>-0.523814</td><td>1.43793</td><td>0.906397</td><td>-0.0126981</td><td>1.0858</td><td>0.008001</td><td>0.0</td></tr><tr><th>11</th><td>0.0172575</td><td>0.0125452</td><td>-0.0273772</td><td>-0.0404261</td><td>1.02411</td><td>0.0625638</td><td>-0.0002</td></tr><tr><th>12</th><td>0.0172575</td><td>0.0125452</td><td>-0.0273772</td><td>0.915789</td><td>1.35875</td><td>-0.0287578</td><td>-0.0002</td></tr><tr><th>13</th><td>0.0172575</td><td>0.0125452</td><td>-0.0273772</td><td>-0.520278</td><td>1.34353</td><td>-0.775543</td><td>-0.0002</td></tr><tr><th>14</th><td>0.915789</td><td>1.35875</td><td>-0.0287578</td><td>-0.0404261</td><td>1.02411</td><td>0.0625638</td><td>-0.0002</td></tr><tr><th>15</th><td>0.915789</td><td>1.35875</td><td>-0.0287578</td><td>-0.520278</td><td>1.34353</td><td>-0.775543</td><td>-0.0002</td></tr><tr><th>16</th><td>-0.520278</td><td>1.34353</td><td>-0.775543</td><td>-0.0404261</td><td>1.02411</td><td>0.0625638</td><td>-0.0002</td></tr><tr><th>17</th><td>0.0647665</td><td>0.0205722</td><td>0.00153463</td><td>0.87179</td><td>1.30079</td><td>0.000693134</td><td>0.0</td></tr><tr><th>18</th><td>-0.0278027</td><td>2.19895</td><td>0.0141538</td><td>-0.0133239</td><td>1.13247</td><td>0.00827589</td><td>0.0</td></tr><tr><th>19</th><td>-0.0278027</td><td>2.19895</td><td>0.0141538</td><td>0.00231072</td><td>-0.0191586</td><td>0.00192873</td><td>0.0</td></tr><tr><th>20</th><td>0.994873</td><td>1.93974</td><td>0.0029412</td><td>-0.018704</td><td>1.52558</td><td>0.0104328</td><td>0.0</td></tr><tr><th>21</th><td>0.994873</td><td>1.93974</td><td>0.0029412</td><td>0.00210374</td><td>-0.00388191</td><td>0.00199882</td><td>0.0</td></tr><tr><th>22</th><td>0.994873</td><td>1.93974</td><td>0.0029412</td><td>-0.542076</td><td>1.92361</td><td>-0.865117</td><td>0.0</td></tr><tr><th>23</th><td>0.994873</td><td>1.93974</td><td>0.0029412</td><td>-0.525241</td><td>1.91417</td><td>0.900024</td><td>0.0</td></tr><tr><th>24</th><td>0.994873</td><td>1.93974</td><td>0.0029412</td><td>0.525487</td><td>-0.401908</td><td>0.877544</td><td>0.0</td></tr><tr><th>25</th><td>0.994873</td><td>1.93974</td><td>0.0029412</td><td>-1.01148</td><td>-0.418034</td><td>0.00950849</td><td>0.0</td></tr><tr><th>26</th><td>0.994873</td><td>1.93974</td><td>0.0029412</td><td>0.508626</td><td>-0.39247</td><td>-0.887601</td><td>0.0</td></tr><tr><th>27</th><td>-0.542076</td><td>1.92361</td><td>-0.865117</td><td>-0.018704</td><td>1.52558</td><td>0.0104328</td><td>0.0</td></tr><tr><th>28</th><td>-0.542076</td><td>1.92361</td><td>-0.865117</td><td>0.00210374</td><td>-0.00388191</td><td>0.00199882</td><td>0.0</td></tr><tr><th>29</th><td>-0.542076</td><td>1.92361</td><td>-0.865117</td><td>-0.525241</td><td>1.91417</td><td>0.900024</td><td>0.0</td></tr><tr><th>30</th><td>-0.542076</td><td>1.92361</td><td>-0.865117</td><td>0.525487</td><td>-0.401908</td><td>0.877544</td><td>0.0</td></tr><tr><th>&vellip;</th><td>&vellip;</td><td>&vellip;</td><td>&vellip;</td><td>&vellip;</td><td>&vellip;</td><td>&vellip;</td><td>&vellip;</td></tr></tbody></table>"
      ],
      "text/latex": [
       "\\begin{tabular}{r|cccccccc}\n",
       "\t& x\\_0 & y\\_0 & z\\_0 & x\\_1 & y\\_1 & z\\_1 & X\\_dipole\\_moments & \\\\\n",
       "\t\\hline\n",
       "\t& Float64 & Float64 & Float64 & Float64 & Float64 & Float64 & Float64 & \\\\\n",
       "\t\\hline\n",
       "\t1 & 0.00215042 & -0.00603132 & 0.00197612 & -0.0126981 & 1.0858 & 0.008001 & 0.0 & $\\dots$ \\\\\n",
       "\t2 & 0.00215042 & -0.00603132 & 0.00197612 & 1.01173 & 1.46375 & 0.000276575 & 0.0 & $\\dots$ \\\\\n",
       "\t3 & 0.00215042 & -0.00603132 & 0.00197612 & -0.540815 & 1.44753 & -0.876644 & 0.0 & $\\dots$ \\\\\n",
       "\t4 & 0.00215042 & -0.00603132 & 0.00197612 & -0.523814 & 1.43793 & 0.906397 & 0.0 & $\\dots$ \\\\\n",
       "\t5 & 1.01173 & 1.46375 & 0.000276575 & -0.0126981 & 1.0858 & 0.008001 & 0.0 & $\\dots$ \\\\\n",
       "\t6 & 1.01173 & 1.46375 & 0.000276575 & -0.540815 & 1.44753 & -0.876644 & 0.0 & $\\dots$ \\\\\n",
       "\t7 & 1.01173 & 1.46375 & 0.000276575 & -0.523814 & 1.43793 & 0.906397 & 0.0 & $\\dots$ \\\\\n",
       "\t8 & -0.540815 & 1.44753 & -0.876644 & -0.0126981 & 1.0858 & 0.008001 & 0.0 & $\\dots$ \\\\\n",
       "\t9 & -0.540815 & 1.44753 & -0.876644 & -0.523814 & 1.43793 & 0.906397 & 0.0 & $\\dots$ \\\\\n",
       "\t10 & -0.523814 & 1.43793 & 0.906397 & -0.0126981 & 1.0858 & 0.008001 & 0.0 & $\\dots$ \\\\\n",
       "\t11 & 0.0172575 & 0.0125452 & -0.0273772 & -0.0404261 & 1.02411 & 0.0625638 & -0.0002 & $\\dots$ \\\\\n",
       "\t12 & 0.0172575 & 0.0125452 & -0.0273772 & 0.915789 & 1.35875 & -0.0287578 & -0.0002 & $\\dots$ \\\\\n",
       "\t13 & 0.0172575 & 0.0125452 & -0.0273772 & -0.520278 & 1.34353 & -0.775543 & -0.0002 & $\\dots$ \\\\\n",
       "\t14 & 0.915789 & 1.35875 & -0.0287578 & -0.0404261 & 1.02411 & 0.0625638 & -0.0002 & $\\dots$ \\\\\n",
       "\t15 & 0.915789 & 1.35875 & -0.0287578 & -0.520278 & 1.34353 & -0.775543 & -0.0002 & $\\dots$ \\\\\n",
       "\t16 & -0.520278 & 1.34353 & -0.775543 & -0.0404261 & 1.02411 & 0.0625638 & -0.0002 & $\\dots$ \\\\\n",
       "\t17 & 0.0647665 & 0.0205722 & 0.00153463 & 0.87179 & 1.30079 & 0.000693134 & 0.0 & $\\dots$ \\\\\n",
       "\t18 & -0.0278027 & 2.19895 & 0.0141538 & -0.0133239 & 1.13247 & 0.00827589 & 0.0 & $\\dots$ \\\\\n",
       "\t19 & -0.0278027 & 2.19895 & 0.0141538 & 0.00231072 & -0.0191586 & 0.00192873 & 0.0 & $\\dots$ \\\\\n",
       "\t20 & 0.994873 & 1.93974 & 0.0029412 & -0.018704 & 1.52558 & 0.0104328 & 0.0 & $\\dots$ \\\\\n",
       "\t21 & 0.994873 & 1.93974 & 0.0029412 & 0.00210374 & -0.00388191 & 0.00199882 & 0.0 & $\\dots$ \\\\\n",
       "\t22 & 0.994873 & 1.93974 & 0.0029412 & -0.542076 & 1.92361 & -0.865117 & 0.0 & $\\dots$ \\\\\n",
       "\t23 & 0.994873 & 1.93974 & 0.0029412 & -0.525241 & 1.91417 & 0.900024 & 0.0 & $\\dots$ \\\\\n",
       "\t24 & 0.994873 & 1.93974 & 0.0029412 & 0.525487 & -0.401908 & 0.877544 & 0.0 & $\\dots$ \\\\\n",
       "\t25 & 0.994873 & 1.93974 & 0.0029412 & -1.01148 & -0.418034 & 0.00950849 & 0.0 & $\\dots$ \\\\\n",
       "\t26 & 0.994873 & 1.93974 & 0.0029412 & 0.508626 & -0.39247 & -0.887601 & 0.0 & $\\dots$ \\\\\n",
       "\t27 & -0.542076 & 1.92361 & -0.865117 & -0.018704 & 1.52558 & 0.0104328 & 0.0 & $\\dots$ \\\\\n",
       "\t28 & -0.542076 & 1.92361 & -0.865117 & 0.00210374 & -0.00388191 & 0.00199882 & 0.0 & $\\dots$ \\\\\n",
       "\t29 & -0.542076 & 1.92361 & -0.865117 & -0.525241 & 1.91417 & 0.900024 & 0.0 & $\\dots$ \\\\\n",
       "\t30 & -0.542076 & 1.92361 & -0.865117 & 0.525487 & -0.401908 & 0.877544 & 0.0 & $\\dots$ \\\\\n",
       "\t$\\dots$ & $\\dots$ & $\\dots$ & $\\dots$ & $\\dots$ & $\\dots$ & $\\dots$ & $\\dots$ &  \\\\\n",
       "\\end{tabular}\n"
      ],
      "text/plain": [
       "4658147×34 DataFrame. Omitted printing of 29 columns\n",
       "│ Row     │ x_0        │ y_0         │ z_0         │ x_1        │ y_1       │\n",
       "│         │ \u001b[90mFloat64\u001b[39m    │ \u001b[90mFloat64\u001b[39m     │ \u001b[90mFloat64\u001b[39m     │ \u001b[90mFloat64\u001b[39m    │ \u001b[90mFloat64\u001b[39m   │\n",
       "├─────────┼────────────┼─────────────┼─────────────┼────────────┼───────────┤\n",
       "│ 1       │ 0.00215042 │ -0.00603132 │ 0.00197612  │ -0.0126981 │ 1.0858    │\n",
       "│ 2       │ 0.00215042 │ -0.00603132 │ 0.00197612  │ 1.01173    │ 1.46375   │\n",
       "│ 3       │ 0.00215042 │ -0.00603132 │ 0.00197612  │ -0.540815  │ 1.44753   │\n",
       "│ 4       │ 0.00215042 │ -0.00603132 │ 0.00197612  │ -0.523814  │ 1.43793   │\n",
       "│ 5       │ 1.01173    │ 1.46375     │ 0.000276575 │ -0.0126981 │ 1.0858    │\n",
       "│ 6       │ 1.01173    │ 1.46375     │ 0.000276575 │ -0.540815  │ 1.44753   │\n",
       "│ 7       │ 1.01173    │ 1.46375     │ 0.000276575 │ -0.523814  │ 1.43793   │\n",
       "│ 8       │ -0.540815  │ 1.44753     │ -0.876644   │ -0.0126981 │ 1.0858    │\n",
       "│ 9       │ -0.540815  │ 1.44753     │ -0.876644   │ -0.523814  │ 1.43793   │\n",
       "│ 10      │ -0.523814  │ 1.43793     │ 0.906397    │ -0.0126981 │ 1.0858    │\n",
       "⋮\n",
       "│ 4658137 │ -0.0845308 │ 1.11081     │ -1.79674    │ -0.131901  │ 0.356983  │\n",
       "│ 4658138 │ -0.0845308 │ 1.11081     │ -1.79674    │ 0.787756   │ -0.840138 │\n",
       "│ 4658139 │ -0.0845308 │ 1.11081     │ -1.79674    │ 1.12655    │ -1.34873  │\n",
       "│ 4658140 │ 1.12655    │ -1.34873    │ -1.93384    │ -1.5711    │ 0.0479324 │\n",
       "│ 4658141 │ 1.12655    │ -1.34873    │ -1.93384    │ -0.75085   │ -0.602182 │\n",
       "│ 4658142 │ 1.12655    │ -1.34873    │ -1.93384    │ 0.326978   │ -1.55419  │\n",
       "│ 4658143 │ 1.12655    │ -1.34873    │ -1.93384    │ 1.62986    │ -0.747236 │\n",
       "│ 4658144 │ 1.12655    │ -1.34873    │ -1.93384    │ 1.41595    │ 0.620773  │\n",
       "│ 4658145 │ 1.12655    │ -1.34873    │ -1.93384    │ -0.0270757 │ 0.747033  │\n",
       "│ 4658146 │ 1.12655    │ -1.34873    │ -1.93384    │ -0.131901  │ 0.356983  │\n",
       "│ 4658147 │ 1.12655    │ -1.34873    │ -1.93384    │ 0.787756   │ -0.840138 │"
      ]
     },
     "execution_count": 221,
     "metadata": {},
     "output_type": "execute_result"
    }
   ],
   "source": [
    "X_cr = select(X_complete,Not(columns_oneHot))"
   ]
  },
  {
   "cell_type": "markdown",
   "metadata": {},
   "source": [
    "### Convert the X_cr to a matrix as X_m"
   ]
  },
  {
   "cell_type": "code",
   "execution_count": 222,
   "metadata": {},
   "outputs": [
    {
     "data": {
      "text/plain": [
       "4658147×34 Array{Float64,2}:\n",
       "  0.00215042  -0.00603132   0.00197612   …  -0.0001    0.0007  195.317 \n",
       "  0.00215042  -0.00603132   0.00197612      -4.1476   -1.6036   33.8967\n",
       "  0.00215042  -0.00603132   0.00197612       1.2724    1.6951   28.9579\n",
       "  0.00215042  -0.00603132   0.00197612      -1.1795    1.626    28.9013\n",
       "  1.01173      1.46375      0.000276575     -0.0001    0.0007  195.317 \n",
       "  1.01173      1.46375      0.000276575  …   1.2724    1.6951   28.9579\n",
       "  1.01173      1.46375      0.000276575     -1.1795    1.626    28.9013\n",
       " -0.540815     1.44753     -0.876644        -0.0001    0.0007  195.317 \n",
       " -0.540815     1.44753     -0.876644        -1.1795    1.626    28.9013\n",
       " -0.523814     1.43793      0.906397        -0.0001    0.0007  195.317 \n",
       "  0.0172575    0.0125452   -0.0273772    …   0.0161   -0.0004  237.497 \n",
       "  0.0172575    0.0125452   -0.0273772       -2.3616    4.1861   27.9885\n",
       "  0.0172575    0.0125452   -0.0273772        4.8083   -0.0488   27.9889\n",
       "  ⋮                                      ⋱                             \n",
       " -0.0845308    1.11081     -1.79674      …  -0.0002   -0.0006  103.122 \n",
       " -0.0845308    1.11081     -1.79674          1.555    -9.5259   89.9291\n",
       " -0.0845308    1.11081     -1.79674          1.4018  -11.3754  144.361 \n",
       " -0.0845308    1.11081     -1.79674         -1.538     4.0582   29.4963\n",
       "  1.12655     -1.34873     -1.93384          0.0026    0.0006  147.848 \n",
       "  1.12655     -1.34873     -1.93384      …  -1.5542    9.5272   89.9296\n",
       "  1.12655     -1.34873     -1.93384         -1.4026   11.3753  144.36  \n",
       "  1.12655     -1.34873     -1.93384          0.0012    0.0002  136.055 \n",
       "  1.12655     -1.34873     -1.93384         -0.0002    0.0003  143.325 \n",
       "  1.12655     -1.34873     -1.93384         -0.0002   -0.0006  103.122 \n",
       "  1.12655     -1.34873     -1.93384      …   1.555    -9.5259   89.9291\n",
       "  1.12655     -1.34873     -1.93384          1.4018  -11.3754  144.361 "
      ]
     },
     "execution_count": 222,
     "metadata": {},
     "output_type": "execute_result"
    }
   ],
   "source": [
    "X_m = convert(Matrix,X_cr)"
   ]
  },
  {
   "cell_type": "markdown",
   "metadata": {},
   "source": [
    "### Transpose the matrix X_m as X_tm(transpose matrix)"
   ]
  },
  {
   "cell_type": "code",
   "execution_count": 225,
   "metadata": {},
   "outputs": [
    {
     "data": {
      "text/plain": [
       "34×4658147 Adjoint{Float64,Array{Float64,2}}:\n",
       "   0.00215042    0.00215042     0.00215042  …     1.12655      1.12655 \n",
       "  -0.00603132   -0.00603132    -0.00603132       -1.34873     -1.34873 \n",
       "   0.00197612    0.00197612     0.00197612       -1.93384     -1.93384 \n",
       "  -0.0126981     1.01173       -0.540815         -0.131901     0.787756\n",
       "   1.0858        1.46375        1.44753           0.356983    -0.840138\n",
       "   0.008001      0.000276575   -0.876644    …    -1.0102      -1.04215 \n",
       "   0.0           0.0            0.0               1.3623       1.3623  \n",
       "   0.0           0.0            0.0               1.4058       1.4058  \n",
       "   0.0           0.0            0.0              -0.0         -0.0     \n",
       "   0.133921      0.133921       0.133921          0.090746     0.090746\n",
       "  -0.535689      0.133922       0.133923    …     0.010044    -0.097191\n",
       " -40.5237      -40.5237       -40.5237         -364.873     -364.873   \n",
       "  83.0224      -11.0347       -11.0325            4.80062    115.975   \n",
       "   ⋮                                        ⋱     ⋮                    \n",
       "   4.0546        4.0546         4.0546           -1.538       -1.538   \n",
       "  -1.7173       -1.7173        -1.7173            4.0582       4.0582  \n",
       "  34.0861       34.0861        34.0861           29.4963      29.4963  \n",
       " 195.315        31.5814        31.5172      …   120.23       196.186   \n",
       "   0.0           1.2173         4.1086           -6.903      -21.3617  \n",
       "  -0.0001       -4.1474         1.2723            9.9705      -7.9868  \n",
       "   0.0           1.2173         4.1088          -18.4385     -20.3374  \n",
       " 195.317        28.9036        33.9068          109.995      153.352   \n",
       "   0.0007       -1.6036         1.695       …   -28.7188     -11.5942  \n",
       "  -0.0001       -4.1476         1.2724            1.555        1.4018  \n",
       "   0.0007       -1.6036         1.6951           -9.5259     -11.3754  \n",
       " 195.317        33.8967        28.9579           89.9291     144.361   "
      ]
     },
     "execution_count": 225,
     "metadata": {},
     "output_type": "execute_result"
    }
   ],
   "source": [
    "X_tm = X_m'"
   ]
  },
  {
   "cell_type": "markdown",
   "metadata": {},
   "source": [
    "### combine the X_tm and hot2 matrix into x_complete. The x_complete matrix is the data we will use to train the model"
   ]
  },
  {
   "cell_type": "markdown",
   "metadata": {},
   "source": [
    "### The x_complete"
   ]
  },
  {
   "cell_type": "code",
   "execution_count": 226,
   "metadata": {},
   "outputs": [
    {
     "data": {
      "text/plain": [
       "104×4658147 Array{Float64,2}:\n",
       "   1.0      1.0      1.0      1.0     …    0.0       0.0       0.0   \n",
       "   0.0      0.0      0.0      0.0          0.0       0.0       0.0   \n",
       "   0.0      0.0      0.0      0.0          0.0       0.0       0.0   \n",
       "   0.0      0.0      0.0      0.0          0.0       0.0       0.0   \n",
       "   0.0      0.0      0.0      0.0          0.0       0.0       0.0   \n",
       "   0.0      0.0      0.0      0.0     …    0.0       0.0       0.0   \n",
       "   0.0      0.0      0.0      0.0          0.0       0.0       0.0   \n",
       "   0.0      0.0      0.0      0.0          0.0       0.0       0.0   \n",
       "   0.0      0.0      0.0      0.0          0.0       0.0       0.0   \n",
       "   0.0      0.0      0.0      0.0          0.0       0.0       0.0   \n",
       "   0.0      0.0      0.0      0.0     …    0.0       0.0       0.0   \n",
       "   0.0      0.0      0.0      0.0          0.0       0.0       0.0   \n",
       "   0.0      0.0      0.0      0.0          0.0       0.0       0.0   \n",
       "   ⋮                                  ⋱              ⋮               \n",
       "   4.0546   4.0546   4.0546   4.0546      -1.538    -1.538    -1.538 \n",
       "  -1.7173  -1.7173  -1.7173  -1.7173       4.0582    4.0582    4.0582\n",
       "  34.0861  34.0861  34.0861  34.0861      29.4963   29.4963   29.4963\n",
       " 195.315   31.5814  31.5172  31.4029  …  140.819   120.23    196.186 \n",
       "   0.0      1.2173   4.1086  -4.0942       1.6914   -6.903   -21.3617\n",
       "  -0.0001  -4.1474   1.2723  -1.1793      -0.0002    9.9705   -7.9868\n",
       "   0.0      1.2173   4.1088  -4.0944      39.585   -18.4385  -20.3374\n",
       " 195.317   28.9036  33.9068  34.0776     168.697   109.995   153.352 \n",
       "   0.0007  -1.6036   1.695    1.6259  …   -0.0006  -28.7188  -11.5942\n",
       "  -0.0001  -4.1476   1.2724  -1.1795      -0.0002    1.555     1.4018\n",
       "   0.0007  -1.6036   1.6951   1.626       -0.0006   -9.5259  -11.3754\n",
       " 195.317   33.8967  28.9579  28.9013     103.122    89.9291  144.361 "
      ]
     },
     "execution_count": 226,
     "metadata": {},
     "output_type": "execute_result"
    }
   ],
   "source": [
    "x_complete = vcat(hot2,X_tm)"
   ]
  },
  {
   "cell_type": "code",
   "execution_count": 227,
   "metadata": {},
   "outputs": [
    {
     "data": {
      "text/plain": [
       "1×4658147 Adjoint{Float64,Array{Float64,1}}:\n",
       " 84.8076  -11.257  -11.2548  -11.2543  …  0.568997  1.17337  4.76201  117.934"
      ]
     },
     "execution_count": 227,
     "metadata": {},
     "output_type": "execute_result"
    }
   ],
   "source": [
    "y_complete = Y_complete'"
   ]
  },
  {
   "cell_type": "markdown",
   "metadata": {},
   "source": [
    "### Split into train and test sets"
   ]
  },
  {
   "cell_type": "code",
   "execution_count": 228,
   "metadata": {
    "scrolled": true
   },
   "outputs": [
    {
     "data": {
      "text/plain": [
       "([0.0 0.0 … 0.0 0.0; 0.0 0.0 … 0.0 0.0; … ; 1.9996 -1.4347 … -3.7329 -0.1907; 148.36 24.0246 … 148.997 95.6348], [6.93372 7.0001 … -1.38691 0.419022])"
      ]
     },
     "execution_count": 228,
     "metadata": {},
     "output_type": "execute_result"
    }
   ],
   "source": [
    "Xs_complete, Ys_complete = shuffleobs((x_complete, y_complete))"
   ]
  },
  {
   "cell_type": "markdown",
   "metadata": {},
   "source": [
    "#### xc_train is the x_complete_train. The same as yc_train, xc_test,yc_test"
   ]
  },
  {
   "cell_type": "code",
   "execution_count": 229,
   "metadata": {
    "scrolled": true
   },
   "outputs": [
    {
     "data": {
      "text/plain": [
       "(([0.0 0.0 … 0.0 0.0; 0.0 0.0 … 0.0 0.0; … ; 1.9996 -1.4347 … 55.4072 8.4297; 148.36 24.0246 … 199.429 116.606], [6.93372 7.0001 … 0.776652 0.454089]), ([0.0 0.0 … 0.0 0.0; 0.0 0.0 … 0.0 0.0; … ; -0.0582 38.8408 … -3.7329 -0.1907; 24.7684 71.3407 … 148.997 95.6348], [5.08376 -2.76404 … -1.38691 0.419022]))"
      ]
     },
     "execution_count": 229,
     "metadata": {},
     "output_type": "execute_result"
    }
   ],
   "source": [
    "(xc_train,yc_train), (xc_test,yc_test) = splitobs((Xs_complete, Ys_complete); at = 0.1)"
   ]
  },
  {
   "cell_type": "code",
   "execution_count": 230,
   "metadata": {},
   "outputs": [
    {
     "data": {
      "text/plain": [
       "(104, 465815)"
      ]
     },
     "execution_count": 230,
     "metadata": {},
     "output_type": "execute_result"
    }
   ],
   "source": [
    "size(xc_train)"
   ]
  },
  {
   "cell_type": "code",
   "execution_count": 231,
   "metadata": {
    "scrolled": true
   },
   "outputs": [
    {
     "data": {
      "text/plain": [
       "(1, 465815)"
      ]
     },
     "execution_count": 231,
     "metadata": {},
     "output_type": "execute_result"
    }
   ],
   "source": [
    "size(yc_train)"
   ]
  },
  {
   "cell_type": "markdown",
   "metadata": {},
   "source": [
    "### shuffleobs and splitobs  do not return a new array, but a lazy view in the form of a SubArray."
   ]
  },
  {
   "cell_type": "code",
   "execution_count": 232,
   "metadata": {
    "scrolled": true
   },
   "outputs": [
    {
     "data": {
      "text/plain": [
       "SubArray{Float64,2,Array{Float64,2},Tuple{Base.Slice{Base.OneTo{Int64}},Array{Int64,1}},false}"
      ]
     },
     "execution_count": 232,
     "metadata": {},
     "output_type": "execute_result"
    }
   ],
   "source": [
    "typeof(x_train)"
   ]
  },
  {
   "cell_type": "markdown",
   "metadata": {},
   "source": [
    "### The model 2"
   ]
  },
  {
   "cell_type": "code",
   "execution_count": 233,
   "metadata": {},
   "outputs": [
    {
     "data": {
      "text/plain": [
       "Chain(Dense(104, 1))"
      ]
     },
     "execution_count": 233,
     "metadata": {},
     "output_type": "execute_result"
    }
   ],
   "source": [
    "mc = Chain(\n",
    "    Dense(104,1),\n",
    "      \n",
    ")"
   ]
  },
  {
   "cell_type": "code",
   "execution_count": 234,
   "metadata": {},
   "outputs": [
    {
     "data": {
      "text/plain": [
       "loss (generic function with 1 method)"
      ]
     },
     "execution_count": 234,
     "metadata": {},
     "output_type": "execute_result"
    }
   ],
   "source": [
    "loss(x, y) = Flux.mse(mc(x), y)"
   ]
  },
  {
   "cell_type": "code",
   "execution_count": 235,
   "metadata": {},
   "outputs": [
    {
     "data": {
      "text/plain": [
       "ADAM(0.5, (0.9, 0.999), IdDict{Any,Any}())"
      ]
     },
     "execution_count": 235,
     "metadata": {},
     "output_type": "execute_result"
    }
   ],
   "source": [
    "dataset_complete = repeated((xc_train, yc_train), 20)\n",
    "evalcb_complete = () -> @show(loss(xc_train, yc_train))\n",
    "opt_complete = ADAM(0.5)"
   ]
  },
  {
   "cell_type": "code",
   "execution_count": 236,
   "metadata": {
    "scrolled": false
   },
   "outputs": [
    {
     "name": "stdout",
     "output_type": "stream",
     "text": [
      "loss(xc_train, yc_train) = 154518.01661692932 (tracked)\n",
      "loss(xc_train, yc_train) = 87061.9217344767 (tracked)\n",
      "loss(xc_train, yc_train) = 2261.8235294923134 (tracked)\n",
      "loss(xc_train, yc_train) = 33543.97852311234 (tracked)\n",
      "loss(xc_train, yc_train) = 8541.98316200719 (tracked)\n",
      "loss(xc_train, yc_train) = 12707.309208416777 (tracked)\n",
      "loss(xc_train, yc_train) = 8090.825717732694 (tracked)\n"
     ]
    }
   ],
   "source": [
    "Flux.train!(loss, params(mc), dataset_complete, opt_complete, cb = throttle(evalcb_complete, 2))"
   ]
  },
  {
   "cell_type": "markdown",
   "metadata": {},
   "source": [
    "### The above result shows that the learning rate is too big. So we change the learning rate to 0.2"
   ]
  },
  {
   "cell_type": "code",
   "execution_count": 238,
   "metadata": {},
   "outputs": [
    {
     "data": {
      "text/plain": [
       "ADAM(0.2, (0.9, 0.999), IdDict{Any,Any}())"
      ]
     },
     "execution_count": 238,
     "metadata": {},
     "output_type": "execute_result"
    }
   ],
   "source": [
    "opt_complete = ADAM(0.2)"
   ]
  },
  {
   "cell_type": "code",
   "execution_count": 239,
   "metadata": {},
   "outputs": [
    {
     "name": "stdout",
     "output_type": "stream",
     "text": [
      "loss(xc_train, yc_train) = 3233.6782603058823 (tracked)\n",
      "loss(xc_train, yc_train) = 62.728829850595005 (tracked)\n",
      "loss(xc_train, yc_train) = 3161.995260085338 (tracked)\n",
      "loss(xc_train, yc_train) = 2637.865033648555 (tracked)\n",
      "loss(xc_train, yc_train) = 100.16668410340306 (tracked)\n",
      "loss(xc_train, yc_train) = 1779.4201388077772 (tracked)\n",
      "loss(xc_train, yc_train) = 282.16111964426403 (tracked)\n"
     ]
    }
   ],
   "source": [
    "Flux.train!(loss, params(mc), dataset_complete, opt_complete, cb = throttle(evalcb_complete, 2))"
   ]
  },
  {
   "cell_type": "markdown",
   "metadata": {},
   "source": [
    "### The learning rate is also too big for 0.2. Then we change the learning rate to 0.01"
   ]
  },
  {
   "cell_type": "code",
   "execution_count": 243,
   "metadata": {},
   "outputs": [
    {
     "data": {
      "text/plain": [
       "ADAM(0.01, (0.9, 0.999), IdDict{Any,Any}())"
      ]
     },
     "execution_count": 243,
     "metadata": {},
     "output_type": "execute_result"
    }
   ],
   "source": [
    "opt_complete = ADAM(0.01)"
   ]
  },
  {
   "cell_type": "code",
   "execution_count": 244,
   "metadata": {},
   "outputs": [
    {
     "name": "stdout",
     "output_type": "stream",
     "text": [
      "loss(xc_train, yc_train) = 37.61194486155767 (tracked)\n",
      "loss(xc_train, yc_train) = 84.5489824610536 (tracked)\n",
      "loss(xc_train, yc_train) = 10.083031390954647 (tracked)\n",
      "loss(xc_train, yc_train) = 29.43335782050599 (tracked)\n",
      "loss(xc_train, yc_train) = 19.581547293827107 (tracked)\n",
      "loss(xc_train, yc_train) = 4.797481731047341 (tracked)\n",
      "loss(xc_train, yc_train) = 17.325621924154028 (tracked)\n"
     ]
    }
   ],
   "source": [
    "Flux.train!(loss, params(mc), dataset_complete, opt_complete, cb = throttle(evalcb_complete, 2))"
   ]
  },
  {
   "cell_type": "markdown",
   "metadata": {},
   "source": [
    "### Check the model"
   ]
  },
  {
   "cell_type": "markdown",
   "metadata": {},
   "source": [
    "### training dataset"
   ]
  },
  {
   "cell_type": "code",
   "execution_count": 280,
   "metadata": {},
   "outputs": [
    {
     "data": {
      "text/plain": [
       "Tracked 1×10 Array{Float32,2}:\n",
       " 3.66119  6.16632  2.09423  -4.58189  …  -15.8033  -0.0287508  -3.65051"
      ]
     },
     "execution_count": 280,
     "metadata": {},
     "output_type": "execute_result"
    }
   ],
   "source": [
    "train_C = mc(xc_train[:,1:10])"
   ]
  },
  {
   "cell_type": "code",
   "execution_count": 248,
   "metadata": {},
   "outputs": [
    {
     "data": {
      "text/plain": [
       "1×10 Array{Float64,2}:\n",
       " 6.93372  7.0001  3.70842  -2.54874  -17.8543  …  -12.7186  1.43408  0.073232"
      ]
     },
     "execution_count": 248,
     "metadata": {},
     "output_type": "execute_result"
    }
   ],
   "source": [
    "yc_train[:,1:10]"
   ]
  },
  {
   "cell_type": "code",
   "execution_count": 281,
   "metadata": {},
   "outputs": [
    {
     "name": "stdout",
     "output_type": "stream",
     "text": [
      "(3.6611907f0 (tracked), 6.93372)\n",
      "(6.166321f0 (tracked), 7.0001)\n",
      "(2.094234f0 (tracked), 3.70842)\n",
      "(-4.581895f0 (tracked), -2.54874)\n",
      "(-20.302265f0 (tracked), -17.8543)\n",
      "(6.0142183f0 (tracked), 9.91444)\n",
      "(-0.90044427f0 (tracked), 3.45232)\n",
      "(-15.803331f0 (tracked), -12.7186)\n",
      "(-0.028750844f0 (tracked), 1.43408)\n",
      "(-3.6505148f0 (tracked), 0.073232)\n"
     ]
    }
   ],
   "source": [
    "for i in zip(train_C', yc_train[1:10])\n",
    "    println(i)\n",
    "end"
   ]
  },
  {
   "cell_type": "markdown",
   "metadata": {},
   "source": [
    "### testing dataset"
   ]
  },
  {
   "cell_type": "code",
   "execution_count": 282,
   "metadata": {},
   "outputs": [
    {
     "data": {
      "text/plain": [
       "Tracked 1×10 Array{Float32,2}:\n",
       " 3.11465  -2.76543  -8.19415  …  -4.16424  -1.15869  81.4873  79.357"
      ]
     },
     "execution_count": 282,
     "metadata": {},
     "output_type": "execute_result"
    }
   ],
   "source": [
    "test_C = mc(xc_test[:,1:10])"
   ]
  },
  {
   "cell_type": "code",
   "execution_count": 250,
   "metadata": {},
   "outputs": [
    {
     "data": {
      "text/plain": [
       "1×10 Array{Float64,2}:\n",
       " 5.08376  -2.76404  -4.37406  -0.399917  …  0.840197  86.1891  83.8421"
      ]
     },
     "execution_count": 250,
     "metadata": {},
     "output_type": "execute_result"
    }
   ],
   "source": [
    "yc_test[:,1:10]"
   ]
  },
  {
   "cell_type": "code",
   "execution_count": 283,
   "metadata": {},
   "outputs": [
    {
     "name": "stdout",
     "output_type": "stream",
     "text": [
      "(3.1146507f0 (tracked), 5.08376)\n",
      "(-2.765433f0 (tracked), -2.76404)\n",
      "(-8.194154f0 (tracked), -4.37406)\n",
      "(-2.704211f0 (tracked), -0.399917)\n",
      "(-1.329688f0 (tracked), 1.61685)\n",
      "(95.235214f0 (tracked), 99.06)\n",
      "(-4.1642375f0 (tracked), -0.712649)\n",
      "(-1.1586939f0 (tracked), 0.840197)\n",
      "(81.48726f0 (tracked), 86.1891)\n",
      "(79.35697f0 (tracked), 83.8421)\n"
     ]
    }
   ],
   "source": [
    "for i in zip(test_C', yc_test[1:10])\n",
    "    println(i)\n",
    "end"
   ]
  },
  {
   "cell_type": "markdown",
   "metadata": {},
   "source": [
    "## The above result shows that adding more parameters in the training data could get a better model."
   ]
  },
  {
   "cell_type": "markdown",
   "metadata": {},
   "source": [
    "### create the model from scratch : model 3"
   ]
  },
  {
   "cell_type": "code",
   "execution_count": 251,
   "metadata": {
    "scrolled": true
   },
   "outputs": [
    {
     "data": {
      "text/plain": [
       "Tracked 1-element Array{Float64,1}:\n",
       " 0.0"
      ]
     },
     "execution_count": 251,
     "metadata": {},
     "output_type": "execute_result"
    }
   ],
   "source": [
    "W = param(randn(1,104)/10) \n",
    "b = param([0.]) "
   ]
  },
  {
   "cell_type": "code",
   "execution_count": 252,
   "metadata": {},
   "outputs": [
    {
     "data": {
      "text/plain": [
       "loss (generic function with 1 method)"
      ]
     },
     "execution_count": 252,
     "metadata": {},
     "output_type": "execute_result"
    }
   ],
   "source": [
    "predict(x) = W*x .+ b\n",
    "meansquarederror(ŷ, y) = sum((ŷ .- y).^2)/size(y, 2)\n",
    "loss(x, y) = meansquarederror(predict(x), y)\n",
    "# loss(x,y) = Flux.mse(predict(x),y)"
   ]
  },
  {
   "cell_type": "code",
   "execution_count": 254,
   "metadata": {
    "scrolled": true
   },
   "outputs": [
    {
     "data": {
      "text/plain": [
       "Params([[0.11552552455746576 0.11787649584081854 … -0.032892288049661024 -0.030599694101448277] (tracked), [0.0] (tracked)])"
      ]
     },
     "execution_count": 254,
     "metadata": {},
     "output_type": "execute_result"
    }
   ],
   "source": [
    "η = 0.1\n",
    "θ = Params([W, b])"
   ]
  },
  {
   "cell_type": "code",
   "execution_count": 255,
   "metadata": {},
   "outputs": [
    {
     "data": {
      "text/plain": [
       "Tracked 1×10 Array{Float64,2}:\n",
       " 140.669  99.3777  121.855  155.065  …  160.989  98.5395  102.739  154.665"
      ]
     },
     "execution_count": 255,
     "metadata": {},
     "output_type": "execute_result"
    }
   ],
   "source": [
    "predict(xc_train[:,1:10])"
   ]
  },
  {
   "cell_type": "code",
   "execution_count": 256,
   "metadata": {},
   "outputs": [
    {
     "data": {
      "text/plain": [
       "1×10 Array{Float64,2}:\n",
       " 6.93372  7.0001  3.70842  -2.54874  -17.8543  …  -12.7186  1.43408  0.073232"
      ]
     },
     "execution_count": 256,
     "metadata": {},
     "output_type": "execute_result"
    }
   ],
   "source": [
    "yc_train[:,1:10]"
   ]
  },
  {
   "cell_type": "code",
   "execution_count": 257,
   "metadata": {},
   "outputs": [
    {
     "name": "stdout",
     "output_type": "stream",
     "text": [
      "loss(xc_train, yc_train) = 2.4268499601377035e13 (tracked)\n",
      "loss(xc_train, yc_train) = 4.023245581459924e22 (tracked)\n",
      "loss(xc_train, yc_train) = 6.6700957267711195e31 (tracked)\n",
      "loss(xc_train, yc_train) = 1.1058281558472694e41 (tracked)\n",
      "loss(xc_train, yc_train) = 1.8333408705593197e50 (tracked)\n",
      "loss(xc_train, yc_train) = 3.03947654967295e59 (tracked)\n",
      "loss(xc_train, yc_train) = 5.039116208211317e68 (tracked)\n",
      "loss(xc_train, yc_train) = 8.354297769657191e77 (tracked)\n",
      "loss(xc_train, yc_train) = 1.3850502417540682e87 (tracked)\n",
      "loss(xc_train, yc_train) = 2.296260230453465e96 (tracked)\n"
     ]
    }
   ],
   "source": [
    "for i = 1:10\n",
    "  g = gradient(() -> loss(xc_train, yc_train), θ)\n",
    "  for x in θ\n",
    "    update!(x, -g[x]*η)\n",
    "  end\n",
    "  @show loss(xc_train, yc_train)\n",
    "end"
   ]
  },
  {
   "cell_type": "markdown",
   "metadata": {},
   "source": [
    "## From the above result, we can see that the model 3 we build from scratch is bad. The loss get bigger and bigger. The reason may be the optimizition step. "
   ]
  },
  {
   "cell_type": "markdown",
   "metadata": {},
   "source": [
    "## Conclusion:"
   ]
  },
  {
   "cell_type": "markdown",
   "metadata": {},
   "source": [
    "##  It is easy to build a model by Julia Flux. Adding more parameters could improve the model accuracy and the predict value is more accurate when the target value is high. The model we build from scratch can't work as we expected. The reason may be that the model can't update the parameters correctly."
   ]
  },
  {
   "cell_type": "code",
   "execution_count": null,
   "metadata": {},
   "outputs": [],
   "source": []
  }
 ],
 "metadata": {
  "kernelspec": {
   "display_name": "Julia 1.2.0",
   "language": "julia",
   "name": "julia-1.2"
  },
  "language_info": {
   "file_extension": ".jl",
   "mimetype": "application/julia",
   "name": "julia",
   "version": "1.2.0"
  }
 },
 "nbformat": 4,
 "nbformat_minor": 2
}
